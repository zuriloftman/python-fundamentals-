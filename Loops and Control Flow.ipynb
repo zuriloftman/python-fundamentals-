{
 "cells": [
  {
   "cell_type": "code",
   "execution_count": 2,
   "id": "e5e1b186",
   "metadata": {},
   "outputs": [],
   "source": [
    "#You are given a list of measurements that are grams (g).\n",
    "#grams = [100000, 7899900, 967312, 49185, 6100]\n",
    "#Write a for loop to convert all of these measurements\n",
    "#to kilograms (kg) and store these values in a new list kg_conversion.\n",
    "#Since we are just adding a single value, we can use .append() \n",
    "#For reference, 1kg is the same as 1000 grams.\n"
   ]
  },
  {
   "cell_type": "code",
   "execution_count": 3,
   "id": "fb4b48d7",
   "metadata": {},
   "outputs": [],
   "source": [
    "grams = [100000, 7899900, 967312, 49185, 6100]"
   ]
  },
  {
   "cell_type": "code",
   "execution_count": 4,
   "id": "350c60d0",
   "metadata": {},
   "outputs": [],
   "source": [
    "kg_conversion = []\n",
    "\n",
    "#outside of the loop to for, final loop ouput "
   ]
  },
  {
   "cell_type": "code",
   "execution_count": 5,
   "id": "2988a39a",
   "metadata": {},
   "outputs": [],
   "source": [
    "for each_weight in grams:\n",
    "    kg = each_weight/1000\n",
    "    \n",
    "    kg_conversion.append(kg)"
   ]
  },
  {
   "cell_type": "code",
   "execution_count": 6,
   "id": "a0bd840c",
   "metadata": {},
   "outputs": [
    {
     "data": {
      "text/plain": [
       "[100.0, 7899.9, 967.312, 49.185, 6.1]"
      ]
     },
     "execution_count": 6,
     "metadata": {},
     "output_type": "execute_result"
    }
   ],
   "source": [
    "    kg_conversion"
   ]
  },
  {
   "cell_type": "code",
   "execution_count": 7,
   "id": "81ecf612",
   "metadata": {},
   "outputs": [],
   "source": [
    "#You are given a list of temperatures in Fahrenheit.\n",
    "#Use the following formula and a for loop \n",
    "#to convert these into Degrees Celsius. \n",
    "\n",
    "#Store the values in fahrenheit then celsius as pairs in a new list, \n",
    "#named celsius conversion. \n",
    "#It is also worth thinking about rounding here, \n",
    "#as the numbers can get a big gnarly!\n",
    "\n",
    "#C=5/9(F-32)\n",
    "\n",
    "#fahrenheit = [60, 72, 85, 93, 100]"
   ]
  },
  {
   "cell_type": "code",
   "execution_count": 8,
   "id": "db99be11",
   "metadata": {},
   "outputs": [],
   "source": [
    "fahrenheit = [60, 72, 85, 93, 100]"
   ]
  },
  {
   "cell_type": "code",
   "execution_count": 9,
   "id": "1d6c8e63",
   "metadata": {},
   "outputs": [],
   "source": [
    "celsius_conversion = []"
   ]
  },
  {
   "cell_type": "code",
   "execution_count": 10,
   "id": "9a2d97b8",
   "metadata": {},
   "outputs": [],
   "source": [
    "for each_temp in fahrenheit:  \n",
    "    celsius = round(5/9 * (each_temp - 32), 2) \n",
    "\n",
    "    \n",
    "    #Apply formula rounds to 2 decimal points with the ,2 bit  "
   ]
  },
  {
   "cell_type": "code",
   "execution_count": 11,
   "id": "e2d710c9",
   "metadata": {},
   "outputs": [],
   "source": [
    "celsius_conversion.extend(\n",
    "    [each_temp, celsius])\n",
    "\n"
   ]
  },
  {
   "cell_type": "code",
   "execution_count": 12,
   "id": "1f75fbcb",
   "metadata": {},
   "outputs": [
    {
     "data": {
      "text/plain": [
       "[100, 37.78]"
      ]
     },
     "execution_count": 12,
     "metadata": {},
     "output_type": "execute_result"
    }
   ],
   "source": [
    "celsius_conversion "
   ]
  },
  {
   "cell_type": "code",
   "execution_count": 13,
   "id": "c32eb3bd",
   "metadata": {},
   "outputs": [
    {
     "name": "stdout",
     "output_type": "stream",
     "text": [
      "1\n",
      "2\n",
      "3\n"
     ]
    }
   ],
   "source": [
    "my_list = [1]\n",
    "new_list = [2, 3]\n",
    "my_list.extend(new_list)\n",
    "for item in my_list:\n",
    "    print(item)"
   ]
  },
  {
   "cell_type": "code",
   "execution_count": 14,
   "id": "d028ef26",
   "metadata": {},
   "outputs": [
    {
     "name": "stdout",
     "output_type": "stream",
     "text": [
      "60\n",
      "72\n",
      "85\n",
      "93\n",
      "100\n",
      "100\n",
      "37.78\n"
     ]
    }
   ],
   "source": [
    "fahrenheit.extend(celsius_conversion)\n",
    "for each_temp in fahrenheit:\n",
    "    print(each_temp)"
   ]
  },
  {
   "cell_type": "code",
   "execution_count": 15,
   "id": "56dbd205",
   "metadata": {},
   "outputs": [
    {
     "name": "stdout",
     "output_type": "stream",
     "text": [
      "Fahrenheit Temperatures: [60, 72, 85, 93, 100]\n",
      "Celsius Conversion: [15.56, 22.22, 29.44, 33.89, 37.78]\n"
     ]
    }
   ],
   "source": [
    "fahrenheit_temperatures = [60, 72, 85, 93, 100]\n",
    "celsius_conversion = [] #identifies that the celsius conversion is wanted as a list \n",
    "\n",
    "for each_temp in fahrenheit_temperatures:\n",
    "    celsius = round(5/9 * (each_temp - 32), 2)\n",
    "    celsius_conversion.append(celsius)\n",
    "\n",
    "print(\"Fahrenheit Temperatures:\", fahrenheit_temperatures)\n",
    "print(\"Celsius Conversion:\", celsius_conversion)\n",
    "\n",
    "\n",
    "#This is the chat GPT output \n",
    "#after having trouble using the ONS exercise guide it has computed out\n",
    "#a simple easy to grasp code \n",
    "\n"
   ]
  },
  {
   "cell_type": "code",
   "execution_count": 16,
   "id": "29f0e565",
   "metadata": {},
   "outputs": [
    {
     "name": "stdout",
     "output_type": "stream",
     "text": [
      "0\n",
      "1\n",
      "2\n",
      "3\n",
      "4\n"
     ]
    }
   ],
   "source": [
    "stop_value = 0\n",
    "\n",
    "while stop_value < 5: # Condition\n",
    "    print(stop_value)\n",
    "    stop_value += 1  \n",
    "    \n"
   ]
  },
  {
   "cell_type": "code",
   "execution_count": 17,
   "id": "2eb5ca3b",
   "metadata": {},
   "outputs": [],
   "source": [
    "#Assign the value of a variable temperature to be 40.\n",
    "#The condition of the while loop, should check if the temperature \n",
    "#is higher than or equal to 20.\n",
    "#The first command in the body should print out \n",
    "#“Its way too hot, it’s” followed by the current value of temperature.\n",
    "#The next command should decrease the temperature by 2 \n",
    "#and assign this new value to temperature again.\n",
    "\n",
    "    "
   ]
  },
  {
   "cell_type": "code",
   "execution_count": 18,
   "id": "6ababafc",
   "metadata": {},
   "outputs": [
    {
     "name": "stdout",
     "output_type": "stream",
     "text": [
      "It's way too hot, it's 40\n",
      "It's way too hot, it's 38\n",
      "It's way too hot, it's 36\n",
      "It's way too hot, it's 34\n",
      "It's way too hot, it's 32\n",
      "It's way too hot, it's 30\n",
      "It's way too hot, it's 28\n",
      "It's way too hot, it's 26\n",
      "It's way too hot, it's 24\n",
      "It's way too hot, it's 22\n",
      "It's way too hot, it's 20\n"
     ]
    }
   ],
   "source": [
    "temperature = 40 \n",
    "\n",
    "while temperature >= 20:\n",
    "    print(\"It's way too hot, it's\", temperature)\n",
    "    temperature -=2\n",
    "    \n",
    " #I put this together without looking at the answer! Well done Zuri :)\n",
    "     "
   ]
  },
  {
   "cell_type": "code",
   "execution_count": 19,
   "id": "aefab6a1",
   "metadata": {},
   "outputs": [
    {
     "name": "stdout",
     "output_type": "stream",
     "text": [
      "It's freezing outside, it's -3 degrees\n",
      "It's freezing outside, it's -1 degrees\n",
      "It's freezing outside, it's 1 degrees\n",
      "It's freezing outside, it's 3 degrees\n",
      "It's freezing outside, it's 5 degrees\n",
      "It's freezing outside, it's 7 degrees\n",
      "It's freezing outside, it's 9 degrees\n",
      "It's freezing outside, it's 11 degrees\n"
     ]
    }
   ],
   "source": [
    "temperature = -3\n",
    "\n",
    "while temperature <= 11:\n",
    "    print(\"It's freezing outside, it's\", temperature, \"degrees\")\n",
    "    temperature += 2"
   ]
  },
  {
   "cell_type": "code",
   "execution_count": 20,
   "id": "b9be8422",
   "metadata": {},
   "outputs": [],
   "source": [
    "#Write a loop containing control flow with an if, elif and else \n",
    "#statement, that loops through the numbers from 1 to 30. \n",
    "#It should have the following properties:\n",
    "#•If the number is a multiple of both 3 and 5, print FizzBuzz.\n",
    "#•If the number is a mutiple of 3, print the word Fizz.\n",
    "#•If the number is a mutiple of 5, print the word Buzz.\n",
    "#•For all other values print the number.\n",
    "\n",
    "#You can use the modulus operator for this, which is the % in python,\n",
    "#and shows us our remainder when dividing integers.\n",
    "#For example checking if something is completely \n",
    "#divisible by 7 we could do\n",
    "\n",
    "#item % 7 == 0\n",
    "#If this returns True we know it’s divisible by 7, \n",
    "#if it returns False then it’s not!\n",
    "\n",
    "# Example of Modulo\n",
    "\n",
    "#10 % 3 == 0\n",
    "\n",
    "# Returns False (10 / 3 has a remainder of 1, so does not have a remainder of 0. However if we just used 10 % 3 it would give 1)\n",
    "#False\n",
    "# Second example of Modulo\n",
    "\n",
    "#9 % 3 == 0\n",
    "\n",
    "# Returns True (9 / 3 has a remainder of 0))\n",
    "#True\n"
   ]
  },
  {
   "cell_type": "code",
   "execution_count": 21,
   "id": "600516b7",
   "metadata": {},
   "outputs": [],
   "source": [
    "#•Show Expected Output\n",
    "#1 2 Fizz 4 Buzz Fizz 7 8 Fizz Buzz 11 Fizz 13 14 FizzBuzz 16 \n",
    "#17 Fizz 19 Buzz Fizz 22 23 Fizz Buzz 26 Fizz 28 29 FizzBuzz\n",
    "\n",
    "\n",
    "#•Pseudocode\n",
    "#This is pseudo code, which is code written in english to help you \n",
    "#structure your code. You have been seeing this alot \n",
    "#when introducing the syntax of this chapter.\n",
    "\n",
    "#my_iterable = create a range or a list\n",
    "#for each_thing in my_iterable:\n",
    "#if my first conditon(s) :\n",
    "    #action for first conditon\n",
    "\n",
    "#elif my second conditon:\n",
    "    #action for second conditon\n",
    "\n",
    "#elif my third conditon:\n",
    "    #action for third conditon    \n",
    "\n",
    "#else:\n",
    "   #action for everything else\n"
   ]
  },
  {
   "cell_type": "code",
   "execution_count": 22,
   "id": "d19b8f2a",
   "metadata": {},
   "outputs": [
    {
     "name": "stdout",
     "output_type": "stream",
     "text": [
      "1\n",
      "2\n",
      "Fizz\n",
      "4\n",
      "Buzz\n",
      "Fizz\n",
      "7\n",
      "8\n",
      "Fizz\n",
      "Buzz\n",
      "11\n",
      "Fizz\n",
      "13\n",
      "14\n",
      "FizzBuzz\n",
      "16\n",
      "17\n",
      "Fizz\n",
      "19\n",
      "Buzz\n",
      "Fizz\n",
      "22\n",
      "23\n",
      "Fizz\n",
      "Buzz\n",
      "26\n",
      "Fizz\n",
      "28\n",
      "29\n",
      "FizzBuzz\n"
     ]
    }
   ],
   "source": [
    "number_range = range(1,31)\n",
    "\n",
    "for each_number in number_range:\n",
    "    \n",
    "    if (each_number % 3 == 0) & (each_number % 5 == 0):\n",
    "        print(\"FizzBuzz\")\n",
    "    \n",
    "    elif (each_number % 3 == 0):\n",
    "        print(\"Fizz\")\n",
    "        \n",
    "    elif (each_number % 5 == 0):\n",
    "        print(\"Buzz\")\n",
    "        \n",
    "    else:\n",
    "        print(each_number)      \n",
    "        "
   ]
  }
 ],
 "metadata": {
  "kernelspec": {
   "display_name": "Python 3 (ipykernel)",
   "language": "python",
   "name": "python3"
  },
  "language_info": {
   "codemirror_mode": {
    "name": "ipython",
    "version": 3
   },
   "file_extension": ".py",
   "mimetype": "text/x-python",
   "name": "python",
   "nbconvert_exporter": "python",
   "pygments_lexer": "ipython3",
   "version": "3.9.13"
  }
 },
 "nbformat": 4,
 "nbformat_minor": 5
}
