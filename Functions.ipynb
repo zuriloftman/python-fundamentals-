{
 "cells": [
  {
   "cell_type": "code",
   "execution_count": 34,
   "id": "09b7a0e6",
   "metadata": {},
   "outputs": [],
   "source": [
    "import pandas as pd "
   ]
  },
  {
   "cell_type": "code",
   "execution_count": 101,
   "id": "78e9cb8d",
   "metadata": {},
   "outputs": [],
   "source": [
    "animals = pd.read_csv(\"C://Users//Zedstar//Documents//Coding//Python//Data//animals.csv\")\n",
    "titanic = pd.read_excel(\"C://Users//Zedstar//Documents//Coding//Python//Data//titanic.xlsx\")"
   ]
  },
  {
   "cell_type": "code",
   "execution_count": 35,
   "id": "0cddfe75",
   "metadata": {},
   "outputs": [],
   "source": [
    "#a.Remember the exercise in Chapter 10 where you converted from Celsius \n",
    "#to Fahrenheit? Let’s create a function that does this for us, \n",
    "#which we can reuse! Using the equation below, \n",
    "#create a function that performs this task.\n",
    "\n",
    "#C=5/9(F-32)\n",
    "\n",
    "#Expected outputs (these are rounded, you don’t need to worry about that for now):\n",
    "#•fahrenheit_to_degrees_celsius(32) returns: 0\n",
    "#•fahrenheit_to_degrees_celsius(11) returns: -11.7\n",
    "#•fahrenheit_to_degrees_celsius(81.3) returns: 27.4\n",
    "\n",
    "#b.Update your function so it rounds to 1 decimal place.\n"
   ]
  },
  {
   "cell_type": "code",
   "execution_count": 36,
   "id": "a9f03aba",
   "metadata": {},
   "outputs": [
    {
     "ename": "SyntaxError",
     "evalue": "invalid syntax (756837003.py, line 1)",
     "output_type": "error",
     "traceback": [
      "\u001b[1;36m  File \u001b[1;32m\"C:\\Users\\Zedstar\\AppData\\Local\\Temp\\ipykernel_41188\\756837003.py\"\u001b[1;36m, line \u001b[1;32m1\u001b[0m\n\u001b[1;33m    def fahrenheit_to_degrees_celcius(celcius_value, = 5/9(fahrenheit_value-32)):\u001b[0m\n\u001b[1;37m                                                     ^\u001b[0m\n\u001b[1;31mSyntaxError\u001b[0m\u001b[1;31m:\u001b[0m invalid syntax\n"
     ]
    }
   ],
   "source": [
    "def fahrenheit_to_degrees_celcius(celcius_value, = 5/9(fahrenheit_value-32)):\n",
    "    total = celcius_value = 5/9(fahrenheit_value,-32)\n",
    "    return total \n",
    "\n",
    "#incorrect funtion code"
   ]
  },
  {
   "cell_type": "code",
   "execution_count": 37,
   "id": "b2c71d27",
   "metadata": {},
   "outputs": [],
   "source": [
    "def fahrenheit_to_degrees_celcius(degrees_f):\n",
    "    degrees_c = (5/9)*(degrees_f-32)\n",
    "    return degrees_c"
   ]
  },
  {
   "cell_type": "code",
   "execution_count": 38,
   "id": "b966ed82",
   "metadata": {},
   "outputs": [
    {
     "data": {
      "text/plain": [
       "27.38888888888889"
      ]
     },
     "execution_count": 38,
     "metadata": {},
     "output_type": "execute_result"
    }
   ],
   "source": [
    "fahrenheit_to_degrees_celcius(degrees_f=81.3)"
   ]
  },
  {
   "cell_type": "code",
   "execution_count": 39,
   "id": "9cdd993c",
   "metadata": {},
   "outputs": [
    {
     "data": {
      "text/plain": [
       "260.0"
      ]
     },
     "execution_count": 39,
     "metadata": {},
     "output_type": "execute_result"
    }
   ],
   "source": [
    "fahrenheit_to_degrees_celcius(degrees_f=500)"
   ]
  },
  {
   "cell_type": "code",
   "execution_count": 40,
   "id": "c8da3cb0",
   "metadata": {},
   "outputs": [
    {
     "data": {
      "text/plain": [
       "46.111111111111114"
      ]
     },
     "execution_count": 40,
     "metadata": {},
     "output_type": "execute_result"
    }
   ],
   "source": [
    "fahrenheit_to_degrees_celcius(degrees_f=115)"
   ]
  },
  {
   "cell_type": "code",
   "execution_count": 41,
   "id": "fb4e7282",
   "metadata": {},
   "outputs": [],
   "source": [
    "def fahrenheit_to_degrees_celcius(degrees_f):\n",
    "    degrees_c = (5/9)*(degrees_f-32)\n",
    "    return round(degrees_c, 1)"
   ]
  },
  {
   "cell_type": "code",
   "execution_count": 42,
   "id": "5f8ad649",
   "metadata": {},
   "outputs": [
    {
     "data": {
      "text/plain": [
       "46.1"
      ]
     },
     "execution_count": 42,
     "metadata": {},
     "output_type": "execute_result"
    }
   ],
   "source": [
    "fahrenheit_to_degrees_celcius(degrees_f=115)"
   ]
  },
  {
   "cell_type": "code",
   "execution_count": 43,
   "id": "cfd72c82",
   "metadata": {},
   "outputs": [
    {
     "data": {
      "text/plain": [
       "0.0"
      ]
     },
     "execution_count": 43,
     "metadata": {},
     "output_type": "execute_result"
    }
   ],
   "source": [
    "fahrenheit_to_degrees_celcius(degrees_f=32)"
   ]
  },
  {
   "cell_type": "code",
   "execution_count": 44,
   "id": "764a8c3d",
   "metadata": {},
   "outputs": [
    {
     "data": {
      "text/plain": [
       "-24.3"
      ]
     },
     "execution_count": 44,
     "metadata": {},
     "output_type": "execute_result"
    }
   ],
   "source": [
    "fahrenheit_to_degrees_celcius(degrees_f=-11.7)"
   ]
  },
  {
   "cell_type": "code",
   "execution_count": 45,
   "id": "07985c36",
   "metadata": {},
   "outputs": [
    {
     "data": {
      "text/plain": [
       "-2.6"
      ]
     },
     "execution_count": 45,
     "metadata": {},
     "output_type": "execute_result"
    }
   ],
   "source": [
    "fahrenheit_to_degrees_celcius(degrees_f=27.4)"
   ]
  },
  {
   "cell_type": "code",
   "execution_count": 46,
   "id": "af0b12c1",
   "metadata": {},
   "outputs": [],
   "source": [
    "def round1_fahrenheit_to_degrees_c(degrees_f):\n",
    "    degrees_c = (5/9)*(degrees_f-32)\n",
    "    rounded_c = round(degrees_c, 1)\n",
    "    return rounded_c \n",
    "\n",
    "#another way to round "
   ]
  },
  {
   "cell_type": "code",
   "execution_count": 47,
   "id": "e5ec7ac5",
   "metadata": {},
   "outputs": [
    {
     "data": {
      "text/plain": [
       "260.0"
      ]
     },
     "execution_count": 47,
     "metadata": {},
     "output_type": "execute_result"
    }
   ],
   "source": [
    "round1_fahrenheit_to_degrees_c(degrees_f=500)\n",
    "\n",
    "#when tring to  return the output remove the colon!!!!"
   ]
  },
  {
   "cell_type": "code",
   "execution_count": 48,
   "id": "af9cab72",
   "metadata": {},
   "outputs": [
    {
     "data": {
      "text/plain": [
       "42.8"
      ]
     },
     "execution_count": 48,
     "metadata": {},
     "output_type": "execute_result"
    }
   ],
   "source": [
    "fahrenheit_to_degrees_celcius(degrees_f=109)"
   ]
  },
  {
   "cell_type": "code",
   "execution_count": 49,
   "id": "1cb107b7",
   "metadata": {},
   "outputs": [
    {
     "name": "stdout",
     "output_type": "stream",
     "text": [
      "68 degrees Fahrenheit is approximately 20.0 degrees Celsius.\n"
     ]
    }
   ],
   "source": [
    "fahrenheit_temperature = 68\n",
    "\n",
    "celsius_temperature = round1_fahrenheit_to_degrees_c(fahrenheit_temperature)\n",
    "\n",
    "print(f\"{fahrenheit_temperature} degrees Fahrenheit is approximately {celsius_temperature} degrees Celsius.\")\n",
    "\n",
    "#uisng chat GPT to help output this function\n",
    "#def round1_fahrenheit_to_degrees_c(degrees_f):\n",
    " #   degrees_c = (5/9)*(degrees_f-32)\n",
    "  #  rounded_c = round(degrees_c, 1)\n",
    "   # return rounded_c "
   ]
  },
  {
   "cell_type": "code",
   "execution_count": 50,
   "id": "66e737bf",
   "metadata": {},
   "outputs": [],
   "source": [
    "def solo_degrees_c_from_degrees_f(degrees_f):\n",
    "    degrees_c = (5/9)*(degrees_f-32)\n",
    "    return degrees_c\n",
    "\n",
    "#my written function converting degrees celcius from degrees fahrenheit\n",
    "#without a guide "
   ]
  },
  {
   "cell_type": "code",
   "execution_count": 51,
   "id": "e38d2d6b",
   "metadata": {},
   "outputs": [
    {
     "data": {
      "text/plain": [
       "173.88888888888889"
      ]
     },
     "execution_count": 51,
     "metadata": {},
     "output_type": "execute_result"
    }
   ],
   "source": [
    "solo_degrees_c_from_degrees_f(degrees_f=345)"
   ]
  },
  {
   "cell_type": "code",
   "execution_count": 90,
   "id": "80ddca0f",
   "metadata": {},
   "outputs": [],
   "source": [
    "def rnd1_degrees_c_from_degrees_f(degrees_f):\n",
    "    degrees_c = (5/9)*(degrees_f-32)\n",
    "    return round(degrees_c, 1)"
   ]
  },
  {
   "cell_type": "code",
   "execution_count": 95,
   "id": "849fadd1",
   "metadata": {
    "scrolled": true
   },
   "outputs": [
    {
     "data": {
      "text/plain": [
       "0.0"
      ]
     },
     "execution_count": 95,
     "metadata": {},
     "output_type": "execute_result"
    }
   ],
   "source": [
    "rnd1_degrees_c_from_degrees_f(degrees_f=32)"
   ]
  },
  {
   "cell_type": "code",
   "execution_count": 96,
   "id": "6296d1d4",
   "metadata": {},
   "outputs": [
    {
     "data": {
      "text/plain": [
       "-11.7"
      ]
     },
     "execution_count": 96,
     "metadata": {},
     "output_type": "execute_result"
    }
   ],
   "source": [
    "rnd1_degrees_c_from_degrees_f(degrees_f=11)"
   ]
  },
  {
   "cell_type": "code",
   "execution_count": 97,
   "id": "fa1ba1c9",
   "metadata": {},
   "outputs": [
    {
     "data": {
      "text/plain": [
       "27.4"
      ]
     },
     "execution_count": 97,
     "metadata": {},
     "output_type": "execute_result"
    }
   ],
   "source": [
    "rnd1_degrees_c_from_degrees_f(degrees_f=81.3)"
   ]
  },
  {
   "cell_type": "code",
   "execution_count": 94,
   "id": "e40277b3",
   "metadata": {},
   "outputs": [],
   "source": [
    "def sequence(value_1=1, value_2=1, value_3=1):\n",
    "    total = ((value_1**2)+value_2)/value_3\n",
    "    return round(total, ndigits = 2)\n",
    "    \n",
    " #to square a number, you do e.g. 5**2 use the pow() function, not 5^2"
   ]
  },
  {
   "cell_type": "code",
   "execution_count": 57,
   "id": "57c79188",
   "metadata": {},
   "outputs": [
    {
     "data": {
      "text/plain": [
       "7.0"
      ]
     },
     "execution_count": 57,
     "metadata": {},
     "output_type": "execute_result"
    }
   ],
   "source": [
    "sequence(value_1=5, value_2=3, value_3=4)"
   ]
  },
  {
   "cell_type": "code",
   "execution_count": 58,
   "id": "be2c12f7",
   "metadata": {},
   "outputs": [
    {
     "data": {
      "text/plain": [
       "2.0"
      ]
     },
     "execution_count": 58,
     "metadata": {},
     "output_type": "execute_result"
    }
   ],
   "source": [
    "sequence()\n",
    "\n",
    "#default function "
   ]
  },
  {
   "cell_type": "code",
   "execution_count": 59,
   "id": "f9747fb8",
   "metadata": {},
   "outputs": [
    {
     "data": {
      "text/plain": [
       "3.0"
      ]
     },
     "execution_count": 59,
     "metadata": {},
     "output_type": "execute_result"
    }
   ],
   "source": [
    "sequence(value_2=5, value_3=2)\n",
    "\n",
    "#function with names specified (partly)"
   ]
  },
  {
   "cell_type": "code",
   "execution_count": 60,
   "id": "f9441bd1",
   "metadata": {},
   "outputs": [
    {
     "data": {
      "text/plain": [
       "1.75"
      ]
     },
     "execution_count": 60,
     "metadata": {},
     "output_type": "execute_result"
    }
   ],
   "source": [
    "sequence(2,3,4)\n",
    "\n",
    "#function with no names specified (fully)\n",
    "#(Don't need to specify names but good practice dictates you should)"
   ]
  },
  {
   "cell_type": "code",
   "execution_count": 61,
   "id": "529bdd6e",
   "metadata": {},
   "outputs": [
    {
     "data": {
      "text/plain": [
       "'hello, I want to talk'"
      ]
     },
     "execution_count": 61,
     "metadata": {},
     "output_type": "execute_result"
    }
   ],
   "source": [
    "\"\"\"hello, I want to talk\"\"\""
   ]
  },
  {
   "cell_type": "code",
   "execution_count": 62,
   "id": "dedd9ac2",
   "metadata": {},
   "outputs": [],
   "source": [
    "#In the previous exercise you created the sum_square_divide function.\n",
    "#Recreate it here but with a docstring including the following:\n",
    "\n",
    "#•Definition\n",
    "#•Parameters (and their default values)\n",
    "#•What it returns\n",
    "#•One example of the default\n",
    "#•One example with no named parameters\n",
    "#•One example with two of the three parameters (with names)\n"
   ]
  },
  {
   "cell_type": "code",
   "execution_count": 63,
   "id": "88a4d1a2",
   "metadata": {},
   "outputs": [],
   "source": [
    "#def square_sum_divide(val_1 = 1, val_2 = 1, val_3 = 1):\n",
    " # \"\"\"\n",
    "  #This function will square the first value (raise to the power of 2) and add it to the second value. Then this resultant sum will be divided by the third value.\n",
    "  \n",
    " # Parameters\n",
    "  #----------\n",
    "  #val_1: A numeric value with default value 1.\n",
    "  #val_2: A numeric value with default value 1.\n",
    "  #val_3: A numeric value with default value 1.\n",
    "  \n",
    "  #Returns\n",
    "  #-------\n",
    "  #expression: The formula ((val_1 ** 2) + val_2)/val_3 is computed.\n",
    "  \n",
    "  #Examples\n",
    "  #--------\n",
    "  #square_sum_divide()\n",
    "  #returns 2\n",
    "  \n",
    "  #square_sum_divide(2, 3, 4)\n",
    "  #returns 1.75\n",
    "  \n",
    "  #square_sum_divide(val_2 = 5, val_3 = 2)\n",
    "  #returns 3\n",
    "  \n",
    "  #Note that we cannot use strings in this function as they are incompatible with exponentiation and division.\n",
    "  \n",
    "  #\"\"\"\n",
    "  #expression = ((val_1 ** 2) + val_2) / val_3\n",
    "  #return round(expression, ndigits = 2)\n"
   ]
  },
  {
   "cell_type": "code",
   "execution_count": 64,
   "id": "c888bdc0",
   "metadata": {},
   "outputs": [],
   "source": [
    "def sequence(value_1=1, value_2=1, value_3=1):\n",
    "    \"\"\"This function squares the first value, then it is added to the second value and then the sum is divided by the third value \n",
    "    \n",
    "    Parameters\n",
    "    value_1: 1\n",
    "    value_2: 1\n",
    "    value_3: 1\n",
    "    \n",
    "    Returns\n",
    "    The sum of the total sequence \n",
    "    \n",
    "    \"\"\"\n",
    "    total = ((value_1**2)+value_2)/value_3\n",
    "    return round(total, ndigits = 3)\n",
    "\n",
    "\n",
    "#This is me making my own docstring \n"
   ]
  },
  {
   "cell_type": "code",
   "execution_count": 65,
   "id": "77b5e2fc",
   "metadata": {},
   "outputs": [
    {
     "data": {
      "text/plain": [
       "2.0"
      ]
     },
     "execution_count": 65,
     "metadata": {},
     "output_type": "execute_result"
    }
   ],
   "source": [
    "sequence()"
   ]
  },
  {
   "cell_type": "code",
   "execution_count": 66,
   "id": "107388a0",
   "metadata": {},
   "outputs": [
    {
     "data": {
      "text/plain": [
       "0.833"
      ]
     },
     "execution_count": 66,
     "metadata": {},
     "output_type": "execute_result"
    }
   ],
   "source": [
    "sequence(1,4,6)"
   ]
  },
  {
   "cell_type": "code",
   "execution_count": 67,
   "id": "ff1e708d",
   "metadata": {},
   "outputs": [
    {
     "data": {
      "text/plain": [
       "7.0"
      ]
     },
     "execution_count": 67,
     "metadata": {},
     "output_type": "execute_result"
    }
   ],
   "source": [
    "sequence(value_1=1,value_2=6)\n",
    "#value_3 remains the default in the function "
   ]
  },
  {
   "cell_type": "code",
   "execution_count": 68,
   "id": "c330f8fd",
   "metadata": {},
   "outputs": [
    {
     "name": "stdout",
     "output_type": "stream",
     "text": [
      "Jesus the Lord loves you!\n",
      "Jesus the Lord loves you!\n",
      "Jesus the Lord loves you!\n",
      "Jesus the Lord loves you!\n",
      "Jesus the Lord loves you!\n",
      "Jesus the Lord loves you!\n",
      "Jesus the Lord loves you!\n",
      "Jesus the Lord loves you!\n",
      "Jesus the Lord loves you!\n",
      "Jesus the Lord loves you!\n"
     ]
    }
   ],
   "source": [
    "def whos_the_best(print_x_times):\n",
    "    for each_num in range(print_x_times):\n",
    "        print(\"Jesus the Lord loves you!\")\n",
    "        \n",
    "whos_the_best(10)\n",
    "        "
   ]
  },
  {
   "cell_type": "code",
   "execution_count": 69,
   "id": "781118c0",
   "metadata": {},
   "outputs": [
    {
     "ename": "IndentationError",
     "evalue": "expected an indented block (1489593085.py, line 2)",
     "output_type": "error",
     "traceback": [
      "\u001b[1;36m  File \u001b[1;32m\"C:\\Users\\Zedstar\\AppData\\Local\\Temp\\ipykernel_41188\\1489593085.py\"\u001b[1;36m, line \u001b[1;32m2\u001b[0m\n\u001b[1;33m    for each_num in range(print_x_times):\u001b[0m\n\u001b[1;37m    ^\u001b[0m\n\u001b[1;31mIndentationError\u001b[0m\u001b[1;31m:\u001b[0m expected an indented block\n"
     ]
    }
   ],
   "source": [
    "def whos_the_best(print_x_times):\n",
    "for each_num in range(print_x_times):\n",
    "        print(\"Jesus is Lord!\")\n",
    "        \n",
    "whos_the_best(10)\n",
    "\n",
    "#this will give an error because the second line is not indented\n",
    "#propely "
   ]
  },
  {
   "cell_type": "code",
   "execution_count": 70,
   "id": "0af09a5a",
   "metadata": {
    "scrolled": true
   },
   "outputs": [
    {
     "ename": "SyntaxError",
     "evalue": "invalid syntax (3456624219.py, line 4)",
     "output_type": "error",
     "traceback": [
      "\u001b[1;36m  File \u001b[1;32m\"C:\\Users\\Zedstar\\AppData\\Local\\Temp\\ipykernel_41188\\3456624219.py\"\u001b[1;36m, line \u001b[1;32m4\u001b[0m\n\u001b[1;33m    if (each_number % 3 == 0) & (each_number % 5 == 0)\u001b[0m\n\u001b[1;37m                                                      ^\u001b[0m\n\u001b[1;31mSyntaxError\u001b[0m\u001b[1;31m:\u001b[0m invalid syntax\n"
     ]
    }
   ],
   "source": [
    "number_range = range(1,31)\n",
    "\n",
    "for each_number in number_range:\n",
    "    if (each_number % 3 == 0) & (each_number % 5 == 0)\n",
    "    print(\"FizzBuzz\")\n",
    "    \n",
    "    elif (each_number % 3 == 0)\n",
    "    print(\"Fizz\")\n",
    "    \n",
    "    elif (each_number % 5 == 0)\n",
    "    print(\"Buzz\")\n",
    "    \n",
    "    else \n",
    "    print(each_number)\n",
    "    \n",
    "#Error occurs because the lines aren't indented using the tab function\n",
    "#Also colons are missing at the end of lines \n"
   ]
  },
  {
   "cell_type": "code",
   "execution_count": 71,
   "id": "21aa6726",
   "metadata": {},
   "outputs": [
    {
     "name": "stdout",
     "output_type": "stream",
     "text": [
      "1\n",
      "2\n",
      "Fizz\n",
      "4\n",
      "Buzz\n",
      "Fizz\n",
      "7\n",
      "8\n",
      "Fizz\n",
      "Buzz\n",
      "11\n",
      "Fizz\n",
      "13\n",
      "14\n",
      "FizzBuzz\n",
      "16\n",
      "17\n",
      "Fizz\n",
      "19\n",
      "Buzz\n",
      "Fizz\n",
      "22\n",
      "23\n",
      "Fizz\n",
      "Buzz\n",
      "26\n",
      "Fizz\n",
      "28\n",
      "29\n",
      "FizzBuzz\n"
     ]
    }
   ],
   "source": [
    "number_range = range(1,31)\n",
    "\n",
    "for each_number in number_range:\n",
    "    if (each_number % 3 == 0) & (each_number % 5 == 0):\n",
    "        print(\"FizzBuzz\")\n",
    "    \n",
    "    elif (each_number % 3 == 0):\n",
    "        print(\"Fizz\")\n",
    "    \n",
    "    elif (each_number % 5 == 0):\n",
    "        print(\"Buzz\")\n",
    "    \n",
    "    else:\n",
    "        print(each_number)\n",
    "        \n",
    "#% means divisible by I guess. "
   ]
  },
  {
   "cell_type": "code",
   "execution_count": 72,
   "id": "cba29e22",
   "metadata": {},
   "outputs": [],
   "source": [
    "x = lambda a : print(a)"
   ]
  },
  {
   "cell_type": "code",
   "execution_count": 73,
   "id": "f116f224",
   "metadata": {},
   "outputs": [
    {
     "name": "stdout",
     "output_type": "stream",
     "text": [
      "4\n"
     ]
    }
   ],
   "source": [
    "x(4)\n"
   ]
  },
  {
   "cell_type": "code",
   "execution_count": 74,
   "id": "aeba6cd8",
   "metadata": {},
   "outputs": [
    {
     "data": {
      "text/plain": [
       "1.0"
      ]
     },
     "execution_count": 74,
     "metadata": {},
     "output_type": "execute_result"
    }
   ],
   "source": [
    "#Remember our lovely problem from before? \n",
    "#Squaring the first number, adding it to the second \n",
    "#and then dividing the sum by the third? Let’s create \n",
    "#a lambda function that does just that! Make sure \n",
    "#it rounds to 2 decimal places as well.\n",
    "#Use the examples (1, 2, 3) and (23, 24, 25) to check it.\n",
    "\n",
    "\n",
    "x = lambda a,b,c : ((a**2)+b)/c \n",
    "\n",
    "x(1,2,3)\n"
   ]
  },
  {
   "cell_type": "code",
   "execution_count": 75,
   "id": "c42cbe4a",
   "metadata": {},
   "outputs": [
    {
     "data": {
      "text/plain": [
       "22.12"
      ]
     },
     "execution_count": 75,
     "metadata": {},
     "output_type": "execute_result"
    }
   ],
   "source": [
    "x = lambda a,b,c : ((a**2)+b)/c \n",
    "\n",
    "x(23,24,25)\n",
    "\n"
   ]
  },
  {
   "cell_type": "code",
   "execution_count": 76,
   "id": "71a976c0",
   "metadata": {},
   "outputs": [
    {
     "ename": "TypeError",
     "evalue": "round() takes at most 2 arguments (3 given)",
     "output_type": "error",
     "traceback": [
      "\u001b[1;31m---------------------------------------------------------------------------\u001b[0m",
      "\u001b[1;31mTypeError\u001b[0m                                 Traceback (most recent call last)",
      "\u001b[1;32m~\\AppData\\Local\\Temp\\ipykernel_41188\\3397433126.py\u001b[0m in \u001b[0;36m<module>\u001b[1;34m\u001b[0m\n\u001b[0;32m      1\u001b[0m \u001b[0mx\u001b[0m \u001b[1;33m=\u001b[0m \u001b[1;32mlambda\u001b[0m \u001b[0ma\u001b[0m\u001b[1;33m,\u001b[0m\u001b[0mb\u001b[0m\u001b[1;33m,\u001b[0m\u001b[0mc\u001b[0m \u001b[1;33m:\u001b[0m \u001b[1;33m(\u001b[0m\u001b[1;33m(\u001b[0m\u001b[0ma\u001b[0m\u001b[1;33m**\u001b[0m\u001b[1;36m2\u001b[0m\u001b[1;33m)\u001b[0m\u001b[1;33m+\u001b[0m\u001b[0mb\u001b[0m\u001b[1;33m)\u001b[0m\u001b[1;33m/\u001b[0m\u001b[0mc\u001b[0m\u001b[1;33m\u001b[0m\u001b[1;33m\u001b[0m\u001b[0m\n\u001b[0;32m      2\u001b[0m \u001b[1;33m\u001b[0m\u001b[0m\n\u001b[1;32m----> 3\u001b[1;33m \u001b[0mx\u001b[0m \u001b[1;33m=\u001b[0m \u001b[0mround\u001b[0m\u001b[1;33m(\u001b[0m\u001b[1;36m1\u001b[0m\u001b[1;33m,\u001b[0m\u001b[1;36m2\u001b[0m\u001b[1;33m,\u001b[0m\u001b[1;36m3\u001b[0m\u001b[1;33m)\u001b[0m\u001b[1;33m\u001b[0m\u001b[1;33m\u001b[0m\u001b[0m\n\u001b[0m\u001b[0;32m      4\u001b[0m \u001b[1;33m\u001b[0m\u001b[0m\n\u001b[0;32m      5\u001b[0m \u001b[1;31m#me trying to round myself\u001b[0m\u001b[1;33m\u001b[0m\u001b[1;33m\u001b[0m\u001b[0m\n",
      "\u001b[1;31mTypeError\u001b[0m: round() takes at most 2 arguments (3 given)"
     ]
    }
   ],
   "source": [
    "x = lambda a,b,c : ((a**2)+b)/c \n",
    "\n",
    "x = round(1,2,3)\n",
    "\n",
    "#me trying to round myself \n"
   ]
  },
  {
   "cell_type": "code",
   "execution_count": 77,
   "id": "2003cb6b",
   "metadata": {},
   "outputs": [
    {
     "data": {
      "text/plain": [
       "1.0"
      ]
     },
     "execution_count": 77,
     "metadata": {},
     "output_type": "execute_result"
    }
   ],
   "source": [
    "x = lambda a,b,c : round(((a**2)+b)/c, ndigits = 2)\n",
    "\n",
    "x(1,2,3)\n",
    "\n",
    "#correct rounding"
   ]
  },
  {
   "cell_type": "code",
   "execution_count": 78,
   "id": "b7a05b95",
   "metadata": {},
   "outputs": [
    {
     "data": {
      "text/plain": [
       "22.12"
      ]
     },
     "execution_count": 78,
     "metadata": {},
     "output_type": "execute_result"
    }
   ],
   "source": [
    "x(23,24,25)"
   ]
  },
  {
   "cell_type": "code",
   "execution_count": 102,
   "id": "2bcfa5d2",
   "metadata": {},
   "outputs": [],
   "source": [
    "animals_new = animals.copy()"
   ]
  },
  {
   "cell_type": "code",
   "execution_count": 103,
   "id": "dc154aef",
   "metadata": {},
   "outputs": [],
   "source": [
    "animals_new.columns = animals_new.columns.str.replace(\" \",\"_\")\n",
    "#Replacing column spaces with \"_\""
   ]
  },
  {
   "cell_type": "code",
   "execution_count": 104,
   "id": "a3668dd8",
   "metadata": {},
   "outputs": [
    {
     "data": {
      "text/html": [
       "<div>\n",
       "<style scoped>\n",
       "    .dataframe tbody tr th:only-of-type {\n",
       "        vertical-align: middle;\n",
       "    }\n",
       "\n",
       "    .dataframe tbody tr th {\n",
       "        vertical-align: top;\n",
       "    }\n",
       "\n",
       "    .dataframe thead th {\n",
       "        text-align: right;\n",
       "    }\n",
       "</style>\n",
       "<table border=\"1\" class=\"dataframe\">\n",
       "  <thead>\n",
       "    <tr style=\"text-align: right;\">\n",
       "      <th></th>\n",
       "      <th>incidentnumber</th>\n",
       "      <th>datetimeofcall</th>\n",
       "      <th>finyear</th>\n",
       "      <th>typeofincident</th>\n",
       "      <th>finaldescription</th>\n",
       "      <th>animalgroupparent</th>\n",
       "      <th>propertytype</th>\n",
       "      <th>specialservicetypecategory</th>\n",
       "      <th>specialservicetype</th>\n",
       "      <th>borough</th>\n",
       "      <th>stngroundname</th>\n",
       "      <th>animalclass</th>\n",
       "      <th>code</th>\n",
       "      <th>london</th>\n",
       "    </tr>\n",
       "  </thead>\n",
       "  <tbody>\n",
       "    <tr>\n",
       "      <th>0</th>\n",
       "      <td>139091</td>\n",
       "      <td>01/01/2009 03:01</td>\n",
       "      <td>2008/09</td>\n",
       "      <td>Special Service</td>\n",
       "      <td>DOG WITH JAW TRAPPED IN MAGAZINE RACK,B15</td>\n",
       "      <td>Dog</td>\n",
       "      <td>House - single occupancy</td>\n",
       "      <td>Other animal assistance</td>\n",
       "      <td>Animal assistance involving livestock - Other ...</td>\n",
       "      <td>Croydon</td>\n",
       "      <td>Norbury</td>\n",
       "      <td>Mammal</td>\n",
       "      <td>00AH</td>\n",
       "      <td>Outer London</td>\n",
       "    </tr>\n",
       "    <tr>\n",
       "      <th>1</th>\n",
       "      <td>275091</td>\n",
       "      <td>01/01/2009 08:51</td>\n",
       "      <td>2008/09</td>\n",
       "      <td>Special Service</td>\n",
       "      <td>ASSIST RSPCA WITH FOX TRAPPED,B15</td>\n",
       "      <td>Fox</td>\n",
       "      <td>Railings</td>\n",
       "      <td>Other animal assistance</td>\n",
       "      <td>Animal assistance involving livestock - Other ...</td>\n",
       "      <td>Croydon</td>\n",
       "      <td>Woodside</td>\n",
       "      <td>Mammal</td>\n",
       "      <td>00AH</td>\n",
       "      <td>Outer London</td>\n",
       "    </tr>\n",
       "    <tr>\n",
       "      <th>2</th>\n",
       "      <td>2075091</td>\n",
       "      <td>04/01/2009 10:07</td>\n",
       "      <td>2008/09</td>\n",
       "      <td>Special Service</td>\n",
       "      <td>DOG CAUGHT IN DRAIN,B15</td>\n",
       "      <td>Dog</td>\n",
       "      <td>Pipe or drain</td>\n",
       "      <td>Animal rescue from below ground</td>\n",
       "      <td>Animal rescue from below ground - Domestic pet</td>\n",
       "      <td>Sutton</td>\n",
       "      <td>Wallington</td>\n",
       "      <td>Mammal</td>\n",
       "      <td>00BF</td>\n",
       "      <td>Outer London</td>\n",
       "    </tr>\n",
       "    <tr>\n",
       "      <th>3</th>\n",
       "      <td>2872091</td>\n",
       "      <td>05/01/2009 12:27</td>\n",
       "      <td>2008/09</td>\n",
       "      <td>Special Service</td>\n",
       "      <td>HORSE TRAPPED IN LAKE,J17</td>\n",
       "      <td>Horse</td>\n",
       "      <td>Intensive Farming Sheds (chickens, pigs etc)</td>\n",
       "      <td>Animal rescue from water</td>\n",
       "      <td>Animal rescue from water - Farm animal</td>\n",
       "      <td>Hillingdon</td>\n",
       "      <td>Ruislip</td>\n",
       "      <td>Mammal</td>\n",
       "      <td>00AS</td>\n",
       "      <td>Outer London</td>\n",
       "    </tr>\n",
       "    <tr>\n",
       "      <th>4</th>\n",
       "      <td>3553091</td>\n",
       "      <td>06/01/2009 15:23</td>\n",
       "      <td>2008/09</td>\n",
       "      <td>Special Service</td>\n",
       "      <td>RABBIT TRAPPED UNDER SOFA,B15</td>\n",
       "      <td>Rabbit</td>\n",
       "      <td>House - single occupancy</td>\n",
       "      <td>Other animal assistance</td>\n",
       "      <td>Animal assistance involving livestock - Other ...</td>\n",
       "      <td>Havering</td>\n",
       "      <td>Harold Hill</td>\n",
       "      <td>Mammal</td>\n",
       "      <td>00AR</td>\n",
       "      <td>Outer London</td>\n",
       "    </tr>\n",
       "    <tr>\n",
       "      <th>...</th>\n",
       "      <td>...</td>\n",
       "      <td>...</td>\n",
       "      <td>...</td>\n",
       "      <td>...</td>\n",
       "      <td>...</td>\n",
       "      <td>...</td>\n",
       "      <td>...</td>\n",
       "      <td>...</td>\n",
       "      <td>...</td>\n",
       "      <td>...</td>\n",
       "      <td>...</td>\n",
       "      <td>...</td>\n",
       "      <td>...</td>\n",
       "      <td>...</td>\n",
       "    </tr>\n",
       "    <tr>\n",
       "      <th>5747</th>\n",
       "      <td>138718-29092018</td>\n",
       "      <td>29/09/2018 14:57</td>\n",
       "      <td>2018/19</td>\n",
       "      <td>Special Service</td>\n",
       "      <td>ASSIST RSPCA WITH CAT STUCK ON WINDOW LEDGE 3 ...</td>\n",
       "      <td>Cat</td>\n",
       "      <td>Purpose Built Flats/Maisonettes - 4 to 9 storeys</td>\n",
       "      <td>Animal rescue from height</td>\n",
       "      <td>Animal rescue from height - Domestic pet</td>\n",
       "      <td>Hammersmith And Fulham</td>\n",
       "      <td>Chiswick</td>\n",
       "      <td>Mammal</td>\n",
       "      <td>00AN</td>\n",
       "      <td>NaN</td>\n",
       "    </tr>\n",
       "    <tr>\n",
       "      <th>5748</th>\n",
       "      <td>138738-29092018</td>\n",
       "      <td>29/09/2018 15:13</td>\n",
       "      <td>2018/19</td>\n",
       "      <td>Special Service</td>\n",
       "      <td>CAT STUCK ON 2ND FLOOR OF PROPERTY      ASSIST...</td>\n",
       "      <td>Cat</td>\n",
       "      <td>Animal harm outdoors</td>\n",
       "      <td>Animal rescue from height</td>\n",
       "      <td>Animal rescue from height - Domestic pet</td>\n",
       "      <td>Waltham Forest</td>\n",
       "      <td>Walthamstow</td>\n",
       "      <td>Mammal</td>\n",
       "      <td>00BH</td>\n",
       "      <td>NaN</td>\n",
       "    </tr>\n",
       "    <tr>\n",
       "      <th>5749</th>\n",
       "      <td>138800-29092018</td>\n",
       "      <td>29/09/2018 16:49</td>\n",
       "      <td>2018/19</td>\n",
       "      <td>Special Service</td>\n",
       "      <td>CAT TRAPPED IN BUSHES ON LAKE</td>\n",
       "      <td>Cat</td>\n",
       "      <td>Lake/pond/reservoir</td>\n",
       "      <td>Animal rescue from water</td>\n",
       "      <td>Animal rescue from water - Domestic pet</td>\n",
       "      <td>Bromley</td>\n",
       "      <td>Bromley</td>\n",
       "      <td>Mammal</td>\n",
       "      <td>00AF</td>\n",
       "      <td>NaN</td>\n",
       "    </tr>\n",
       "    <tr>\n",
       "      <th>5750</th>\n",
       "      <td>138957-29092018</td>\n",
       "      <td>29/09/2018 21:10</td>\n",
       "      <td>2018/19</td>\n",
       "      <td>Special Service</td>\n",
       "      <td>DOG WITH PAWS TRAPPED IN METAL TABLE LEG</td>\n",
       "      <td>Dog</td>\n",
       "      <td>House - single occupancy</td>\n",
       "      <td>Other animal assistance</td>\n",
       "      <td>Assist trapped domestic animal</td>\n",
       "      <td>Ealing</td>\n",
       "      <td>Southall</td>\n",
       "      <td>Mammal</td>\n",
       "      <td>00AJ</td>\n",
       "      <td>NaN</td>\n",
       "    </tr>\n",
       "    <tr>\n",
       "      <th>5751</th>\n",
       "      <td>139509-30092018</td>\n",
       "      <td>30/09/2018 21:39</td>\n",
       "      <td>2018/19</td>\n",
       "      <td>Special Service</td>\n",
       "      <td>CAT STUCK ON ROOF OF HOUSE</td>\n",
       "      <td>Cat</td>\n",
       "      <td>Bungalow - single occupancy</td>\n",
       "      <td>Animal rescue from height</td>\n",
       "      <td>Animal rescue from height - Domestic pet</td>\n",
       "      <td>Barnet</td>\n",
       "      <td>Southgate</td>\n",
       "      <td>Mammal</td>\n",
       "      <td>00AC</td>\n",
       "      <td>NaN</td>\n",
       "    </tr>\n",
       "  </tbody>\n",
       "</table>\n",
       "<p>5752 rows × 14 columns</p>\n",
       "</div>"
      ],
      "text/plain": [
       "       incidentnumber    datetimeofcall  finyear   typeofincident  \\\n",
       "0              139091  01/01/2009 03:01  2008/09  Special Service   \n",
       "1              275091  01/01/2009 08:51  2008/09  Special Service   \n",
       "2             2075091  04/01/2009 10:07  2008/09  Special Service   \n",
       "3             2872091  05/01/2009 12:27  2008/09  Special Service   \n",
       "4             3553091  06/01/2009 15:23  2008/09  Special Service   \n",
       "...               ...               ...      ...              ...   \n",
       "5747  138718-29092018  29/09/2018 14:57  2018/19  Special Service   \n",
       "5748  138738-29092018  29/09/2018 15:13  2018/19  Special Service   \n",
       "5749  138800-29092018  29/09/2018 16:49  2018/19  Special Service   \n",
       "5750  138957-29092018  29/09/2018 21:10  2018/19  Special Service   \n",
       "5751  139509-30092018  30/09/2018 21:39  2018/19  Special Service   \n",
       "\n",
       "                                       finaldescription animalgroupparent  \\\n",
       "0             DOG WITH JAW TRAPPED IN MAGAZINE RACK,B15               Dog   \n",
       "1                     ASSIST RSPCA WITH FOX TRAPPED,B15               Fox   \n",
       "2                               DOG CAUGHT IN DRAIN,B15               Dog   \n",
       "3                             HORSE TRAPPED IN LAKE,J17             Horse   \n",
       "4                         RABBIT TRAPPED UNDER SOFA,B15            Rabbit   \n",
       "...                                                 ...               ...   \n",
       "5747  ASSIST RSPCA WITH CAT STUCK ON WINDOW LEDGE 3 ...               Cat   \n",
       "5748  CAT STUCK ON 2ND FLOOR OF PROPERTY      ASSIST...               Cat   \n",
       "5749                      CAT TRAPPED IN BUSHES ON LAKE               Cat   \n",
       "5750           DOG WITH PAWS TRAPPED IN METAL TABLE LEG               Dog   \n",
       "5751                         CAT STUCK ON ROOF OF HOUSE               Cat   \n",
       "\n",
       "                                           propertytype  \\\n",
       "0                             House - single occupancy    \n",
       "1                                              Railings   \n",
       "2                                        Pipe or drain    \n",
       "3         Intensive Farming Sheds (chickens, pigs etc)    \n",
       "4                             House - single occupancy    \n",
       "...                                                 ...   \n",
       "5747  Purpose Built Flats/Maisonettes - 4 to 9 storeys    \n",
       "5748                               Animal harm outdoors   \n",
       "5749                               Lake/pond/reservoir    \n",
       "5750                          House - single occupancy    \n",
       "5751                       Bungalow - single occupancy    \n",
       "\n",
       "           specialservicetypecategory  \\\n",
       "0             Other animal assistance   \n",
       "1             Other animal assistance   \n",
       "2     Animal rescue from below ground   \n",
       "3            Animal rescue from water   \n",
       "4             Other animal assistance   \n",
       "...                               ...   \n",
       "5747        Animal rescue from height   \n",
       "5748        Animal rescue from height   \n",
       "5749         Animal rescue from water   \n",
       "5750          Other animal assistance   \n",
       "5751        Animal rescue from height   \n",
       "\n",
       "                                     specialservicetype  \\\n",
       "0     Animal assistance involving livestock - Other ...   \n",
       "1     Animal assistance involving livestock - Other ...   \n",
       "2        Animal rescue from below ground - Domestic pet   \n",
       "3                Animal rescue from water - Farm animal   \n",
       "4     Animal assistance involving livestock - Other ...   \n",
       "...                                                 ...   \n",
       "5747           Animal rescue from height - Domestic pet   \n",
       "5748           Animal rescue from height - Domestic pet   \n",
       "5749            Animal rescue from water - Domestic pet   \n",
       "5750                     Assist trapped domestic animal   \n",
       "5751           Animal rescue from height - Domestic pet   \n",
       "\n",
       "                     borough stngroundname animalclass  code        london  \n",
       "0                    Croydon       Norbury      Mammal  00AH  Outer London  \n",
       "1                    Croydon      Woodside      Mammal  00AH  Outer London  \n",
       "2                     Sutton    Wallington      Mammal  00BF  Outer London  \n",
       "3                 Hillingdon       Ruislip      Mammal  00AS  Outer London  \n",
       "4                   Havering   Harold Hill      Mammal  00AR  Outer London  \n",
       "...                      ...           ...         ...   ...           ...  \n",
       "5747  Hammersmith And Fulham      Chiswick      Mammal  00AN           NaN  \n",
       "5748          Waltham Forest   Walthamstow      Mammal  00BH           NaN  \n",
       "5749                 Bromley       Bromley      Mammal  00AF           NaN  \n",
       "5750                  Ealing      Southall      Mammal  00AJ           NaN  \n",
       "5751                  Barnet     Southgate      Mammal  00AC           NaN  \n",
       "\n",
       "[5752 rows x 14 columns]"
      ]
     },
     "execution_count": 104,
     "metadata": {},
     "output_type": "execute_result"
    }
   ],
   "source": [
    "animals_new.columns = animals_new.columns.str.lower()\n",
    "animals_new_objects = animals_new.select_dtypes([\"O\"])\n",
    "animals_new_objects\n",
    "#lowecase the column names "
   ]
  },
  {
   "cell_type": "code",
   "execution_count": 105,
   "id": "07586296",
   "metadata": {},
   "outputs": [
    {
     "data": {
      "text/html": [
       "<div>\n",
       "<style scoped>\n",
       "    .dataframe tbody tr th:only-of-type {\n",
       "        vertical-align: middle;\n",
       "    }\n",
       "\n",
       "    .dataframe tbody tr th {\n",
       "        vertical-align: top;\n",
       "    }\n",
       "\n",
       "    .dataframe thead th {\n",
       "        text-align: right;\n",
       "    }\n",
       "</style>\n",
       "<table border=\"1\" class=\"dataframe\">\n",
       "  <thead>\n",
       "    <tr style=\"text-align: right;\">\n",
       "      <th></th>\n",
       "      <th>IncidentNumber</th>\n",
       "      <th>DateTimeOfCall</th>\n",
       "      <th>CalYear</th>\n",
       "      <th>FinYear</th>\n",
       "      <th>TypeOfIncident</th>\n",
       "      <th>PumpCount</th>\n",
       "      <th>PumpHoursTotal</th>\n",
       "      <th>HourlyNominalCost(£)</th>\n",
       "      <th>IncidentNominalCost(£)</th>\n",
       "      <th>FinalDescription</th>\n",
       "      <th>AnimalGroupParent</th>\n",
       "      <th>PropertyType</th>\n",
       "      <th>SpecialServiceTypeCategory</th>\n",
       "      <th>SpecialServiceType</th>\n",
       "      <th>Borough</th>\n",
       "      <th>StnGroundName</th>\n",
       "      <th>AnimalClass</th>\n",
       "      <th>Code</th>\n",
       "      <th>London</th>\n",
       "    </tr>\n",
       "  </thead>\n",
       "  <tbody>\n",
       "    <tr>\n",
       "      <th>0</th>\n",
       "      <td>139091</td>\n",
       "      <td>01/01/2009 03:01</td>\n",
       "      <td>2009</td>\n",
       "      <td>2008/09</td>\n",
       "      <td>Special Service</td>\n",
       "      <td>1.0</td>\n",
       "      <td>2.0</td>\n",
       "      <td>255</td>\n",
       "      <td>510.0</td>\n",
       "      <td>DOG WITH JAW TRAPPED IN MAGAZINE RACK,B15</td>\n",
       "      <td>Dog</td>\n",
       "      <td>House - single occupancy</td>\n",
       "      <td>Other animal assistance</td>\n",
       "      <td>Animal assistance involving livestock - Other ...</td>\n",
       "      <td>Croydon</td>\n",
       "      <td>Norbury</td>\n",
       "      <td>Mammal</td>\n",
       "      <td>00AH</td>\n",
       "      <td>Outer London</td>\n",
       "    </tr>\n",
       "    <tr>\n",
       "      <th>1</th>\n",
       "      <td>275091</td>\n",
       "      <td>01/01/2009 08:51</td>\n",
       "      <td>2009</td>\n",
       "      <td>2008/09</td>\n",
       "      <td>Special Service</td>\n",
       "      <td>1.0</td>\n",
       "      <td>1.0</td>\n",
       "      <td>255</td>\n",
       "      <td>255.0</td>\n",
       "      <td>ASSIST RSPCA WITH FOX TRAPPED,B15</td>\n",
       "      <td>Fox</td>\n",
       "      <td>Railings</td>\n",
       "      <td>Other animal assistance</td>\n",
       "      <td>Animal assistance involving livestock - Other ...</td>\n",
       "      <td>Croydon</td>\n",
       "      <td>Woodside</td>\n",
       "      <td>Mammal</td>\n",
       "      <td>00AH</td>\n",
       "      <td>Outer London</td>\n",
       "    </tr>\n",
       "    <tr>\n",
       "      <th>2</th>\n",
       "      <td>2075091</td>\n",
       "      <td>04/01/2009 10:07</td>\n",
       "      <td>2009</td>\n",
       "      <td>2008/09</td>\n",
       "      <td>Special Service</td>\n",
       "      <td>1.0</td>\n",
       "      <td>1.0</td>\n",
       "      <td>255</td>\n",
       "      <td>255.0</td>\n",
       "      <td>DOG CAUGHT IN DRAIN,B15</td>\n",
       "      <td>Dog</td>\n",
       "      <td>Pipe or drain</td>\n",
       "      <td>Animal rescue from below ground</td>\n",
       "      <td>Animal rescue from below ground - Domestic pet</td>\n",
       "      <td>Sutton</td>\n",
       "      <td>Wallington</td>\n",
       "      <td>Mammal</td>\n",
       "      <td>00BF</td>\n",
       "      <td>Outer London</td>\n",
       "    </tr>\n",
       "    <tr>\n",
       "      <th>3</th>\n",
       "      <td>2872091</td>\n",
       "      <td>05/01/2009 12:27</td>\n",
       "      <td>2009</td>\n",
       "      <td>2008/09</td>\n",
       "      <td>Special Service</td>\n",
       "      <td>1.0</td>\n",
       "      <td>1.0</td>\n",
       "      <td>255</td>\n",
       "      <td>255.0</td>\n",
       "      <td>HORSE TRAPPED IN LAKE,J17</td>\n",
       "      <td>Horse</td>\n",
       "      <td>Intensive Farming Sheds (chickens, pigs etc)</td>\n",
       "      <td>Animal rescue from water</td>\n",
       "      <td>Animal rescue from water - Farm animal</td>\n",
       "      <td>Hillingdon</td>\n",
       "      <td>Ruislip</td>\n",
       "      <td>Mammal</td>\n",
       "      <td>00AS</td>\n",
       "      <td>Outer London</td>\n",
       "    </tr>\n",
       "    <tr>\n",
       "      <th>4</th>\n",
       "      <td>3553091</td>\n",
       "      <td>06/01/2009 15:23</td>\n",
       "      <td>2009</td>\n",
       "      <td>2008/09</td>\n",
       "      <td>Special Service</td>\n",
       "      <td>1.0</td>\n",
       "      <td>1.0</td>\n",
       "      <td>255</td>\n",
       "      <td>255.0</td>\n",
       "      <td>RABBIT TRAPPED UNDER SOFA,B15</td>\n",
       "      <td>Rabbit</td>\n",
       "      <td>House - single occupancy</td>\n",
       "      <td>Other animal assistance</td>\n",
       "      <td>Animal assistance involving livestock - Other ...</td>\n",
       "      <td>Havering</td>\n",
       "      <td>Harold Hill</td>\n",
       "      <td>Mammal</td>\n",
       "      <td>00AR</td>\n",
       "      <td>Outer London</td>\n",
       "    </tr>\n",
       "    <tr>\n",
       "      <th>...</th>\n",
       "      <td>...</td>\n",
       "      <td>...</td>\n",
       "      <td>...</td>\n",
       "      <td>...</td>\n",
       "      <td>...</td>\n",
       "      <td>...</td>\n",
       "      <td>...</td>\n",
       "      <td>...</td>\n",
       "      <td>...</td>\n",
       "      <td>...</td>\n",
       "      <td>...</td>\n",
       "      <td>...</td>\n",
       "      <td>...</td>\n",
       "      <td>...</td>\n",
       "      <td>...</td>\n",
       "      <td>...</td>\n",
       "      <td>...</td>\n",
       "      <td>...</td>\n",
       "      <td>...</td>\n",
       "    </tr>\n",
       "    <tr>\n",
       "      <th>5747</th>\n",
       "      <td>138718-29092018</td>\n",
       "      <td>29/09/2018 14:57</td>\n",
       "      <td>2018</td>\n",
       "      <td>2018/19</td>\n",
       "      <td>Special Service</td>\n",
       "      <td>1.0</td>\n",
       "      <td>1.0</td>\n",
       "      <td>333</td>\n",
       "      <td>333.0</td>\n",
       "      <td>ASSIST RSPCA WITH CAT STUCK ON WINDOW LEDGE 3 ...</td>\n",
       "      <td>Cat</td>\n",
       "      <td>Purpose Built Flats/Maisonettes - 4 to 9 storeys</td>\n",
       "      <td>Animal rescue from height</td>\n",
       "      <td>Animal rescue from height - Domestic pet</td>\n",
       "      <td>Hammersmith And Fulham</td>\n",
       "      <td>Chiswick</td>\n",
       "      <td>Mammal</td>\n",
       "      <td>00AN</td>\n",
       "      <td>NaN</td>\n",
       "    </tr>\n",
       "    <tr>\n",
       "      <th>5748</th>\n",
       "      <td>138738-29092018</td>\n",
       "      <td>29/09/2018 15:13</td>\n",
       "      <td>2018</td>\n",
       "      <td>2018/19</td>\n",
       "      <td>Special Service</td>\n",
       "      <td>NaN</td>\n",
       "      <td>NaN</td>\n",
       "      <td>333</td>\n",
       "      <td>NaN</td>\n",
       "      <td>CAT STUCK ON 2ND FLOOR OF PROPERTY      ASSIST...</td>\n",
       "      <td>Cat</td>\n",
       "      <td>Animal harm outdoors</td>\n",
       "      <td>Animal rescue from height</td>\n",
       "      <td>Animal rescue from height - Domestic pet</td>\n",
       "      <td>Waltham Forest</td>\n",
       "      <td>Walthamstow</td>\n",
       "      <td>Mammal</td>\n",
       "      <td>00BH</td>\n",
       "      <td>NaN</td>\n",
       "    </tr>\n",
       "    <tr>\n",
       "      <th>5749</th>\n",
       "      <td>138800-29092018</td>\n",
       "      <td>29/09/2018 16:49</td>\n",
       "      <td>2018</td>\n",
       "      <td>2018/19</td>\n",
       "      <td>Special Service</td>\n",
       "      <td>1.0</td>\n",
       "      <td>1.0</td>\n",
       "      <td>333</td>\n",
       "      <td>333.0</td>\n",
       "      <td>CAT TRAPPED IN BUSHES ON LAKE</td>\n",
       "      <td>Cat</td>\n",
       "      <td>Lake/pond/reservoir</td>\n",
       "      <td>Animal rescue from water</td>\n",
       "      <td>Animal rescue from water - Domestic pet</td>\n",
       "      <td>Bromley</td>\n",
       "      <td>Bromley</td>\n",
       "      <td>Mammal</td>\n",
       "      <td>00AF</td>\n",
       "      <td>NaN</td>\n",
       "    </tr>\n",
       "    <tr>\n",
       "      <th>5750</th>\n",
       "      <td>138957-29092018</td>\n",
       "      <td>29/09/2018 21:10</td>\n",
       "      <td>2018</td>\n",
       "      <td>2018/19</td>\n",
       "      <td>Special Service</td>\n",
       "      <td>1.0</td>\n",
       "      <td>1.0</td>\n",
       "      <td>333</td>\n",
       "      <td>333.0</td>\n",
       "      <td>DOG WITH PAWS TRAPPED IN METAL TABLE LEG</td>\n",
       "      <td>Dog</td>\n",
       "      <td>House - single occupancy</td>\n",
       "      <td>Other animal assistance</td>\n",
       "      <td>Assist trapped domestic animal</td>\n",
       "      <td>Ealing</td>\n",
       "      <td>Southall</td>\n",
       "      <td>Mammal</td>\n",
       "      <td>00AJ</td>\n",
       "      <td>NaN</td>\n",
       "    </tr>\n",
       "    <tr>\n",
       "      <th>5751</th>\n",
       "      <td>139509-30092018</td>\n",
       "      <td>30/09/2018 21:39</td>\n",
       "      <td>2018</td>\n",
       "      <td>2018/19</td>\n",
       "      <td>Special Service</td>\n",
       "      <td>1.0</td>\n",
       "      <td>1.0</td>\n",
       "      <td>333</td>\n",
       "      <td>333.0</td>\n",
       "      <td>CAT STUCK ON ROOF OF HOUSE</td>\n",
       "      <td>Cat</td>\n",
       "      <td>Bungalow - single occupancy</td>\n",
       "      <td>Animal rescue from height</td>\n",
       "      <td>Animal rescue from height - Domestic pet</td>\n",
       "      <td>Barnet</td>\n",
       "      <td>Southgate</td>\n",
       "      <td>Mammal</td>\n",
       "      <td>00AC</td>\n",
       "      <td>NaN</td>\n",
       "    </tr>\n",
       "  </tbody>\n",
       "</table>\n",
       "<p>5752 rows × 19 columns</p>\n",
       "</div>"
      ],
      "text/plain": [
       "       IncidentNumber    DateTimeOfCall  CalYear  FinYear   TypeOfIncident  \\\n",
       "0              139091  01/01/2009 03:01     2009  2008/09  Special Service   \n",
       "1              275091  01/01/2009 08:51     2009  2008/09  Special Service   \n",
       "2             2075091  04/01/2009 10:07     2009  2008/09  Special Service   \n",
       "3             2872091  05/01/2009 12:27     2009  2008/09  Special Service   \n",
       "4             3553091  06/01/2009 15:23     2009  2008/09  Special Service   \n",
       "...               ...               ...      ...      ...              ...   \n",
       "5747  138718-29092018  29/09/2018 14:57     2018  2018/19  Special Service   \n",
       "5748  138738-29092018  29/09/2018 15:13     2018  2018/19  Special Service   \n",
       "5749  138800-29092018  29/09/2018 16:49     2018  2018/19  Special Service   \n",
       "5750  138957-29092018  29/09/2018 21:10     2018  2018/19  Special Service   \n",
       "5751  139509-30092018  30/09/2018 21:39     2018  2018/19  Special Service   \n",
       "\n",
       "      PumpCount  PumpHoursTotal  HourlyNominalCost(£)  IncidentNominalCost(£)  \\\n",
       "0           1.0             2.0                   255                   510.0   \n",
       "1           1.0             1.0                   255                   255.0   \n",
       "2           1.0             1.0                   255                   255.0   \n",
       "3           1.0             1.0                   255                   255.0   \n",
       "4           1.0             1.0                   255                   255.0   \n",
       "...         ...             ...                   ...                     ...   \n",
       "5747        1.0             1.0                   333                   333.0   \n",
       "5748        NaN             NaN                   333                     NaN   \n",
       "5749        1.0             1.0                   333                   333.0   \n",
       "5750        1.0             1.0                   333                   333.0   \n",
       "5751        1.0             1.0                   333                   333.0   \n",
       "\n",
       "                                       FinalDescription AnimalGroupParent  \\\n",
       "0             DOG WITH JAW TRAPPED IN MAGAZINE RACK,B15               Dog   \n",
       "1                     ASSIST RSPCA WITH FOX TRAPPED,B15               Fox   \n",
       "2                               DOG CAUGHT IN DRAIN,B15               Dog   \n",
       "3                             HORSE TRAPPED IN LAKE,J17             Horse   \n",
       "4                         RABBIT TRAPPED UNDER SOFA,B15            Rabbit   \n",
       "...                                                 ...               ...   \n",
       "5747  ASSIST RSPCA WITH CAT STUCK ON WINDOW LEDGE 3 ...               Cat   \n",
       "5748  CAT STUCK ON 2ND FLOOR OF PROPERTY      ASSIST...               Cat   \n",
       "5749                      CAT TRAPPED IN BUSHES ON LAKE               Cat   \n",
       "5750           DOG WITH PAWS TRAPPED IN METAL TABLE LEG               Dog   \n",
       "5751                         CAT STUCK ON ROOF OF HOUSE               Cat   \n",
       "\n",
       "                                           PropertyType  \\\n",
       "0                             House - single occupancy    \n",
       "1                                              Railings   \n",
       "2                                        Pipe or drain    \n",
       "3         Intensive Farming Sheds (chickens, pigs etc)    \n",
       "4                             House - single occupancy    \n",
       "...                                                 ...   \n",
       "5747  Purpose Built Flats/Maisonettes - 4 to 9 storeys    \n",
       "5748                               Animal harm outdoors   \n",
       "5749                               Lake/pond/reservoir    \n",
       "5750                          House - single occupancy    \n",
       "5751                       Bungalow - single occupancy    \n",
       "\n",
       "           SpecialServiceTypeCategory  \\\n",
       "0             Other animal assistance   \n",
       "1             Other animal assistance   \n",
       "2     Animal rescue from below ground   \n",
       "3            Animal rescue from water   \n",
       "4             Other animal assistance   \n",
       "...                               ...   \n",
       "5747        Animal rescue from height   \n",
       "5748        Animal rescue from height   \n",
       "5749         Animal rescue from water   \n",
       "5750          Other animal assistance   \n",
       "5751        Animal rescue from height   \n",
       "\n",
       "                                     SpecialServiceType  \\\n",
       "0     Animal assistance involving livestock - Other ...   \n",
       "1     Animal assistance involving livestock - Other ...   \n",
       "2        Animal rescue from below ground - Domestic pet   \n",
       "3                Animal rescue from water - Farm animal   \n",
       "4     Animal assistance involving livestock - Other ...   \n",
       "...                                                 ...   \n",
       "5747           Animal rescue from height - Domestic pet   \n",
       "5748           Animal rescue from height - Domestic pet   \n",
       "5749            Animal rescue from water - Domestic pet   \n",
       "5750                     Assist trapped domestic animal   \n",
       "5751           Animal rescue from height - Domestic pet   \n",
       "\n",
       "                     Borough StnGroundName AnimalClass  Code        London  \n",
       "0                    Croydon       Norbury      Mammal  00AH  Outer London  \n",
       "1                    Croydon      Woodside      Mammal  00AH  Outer London  \n",
       "2                     Sutton    Wallington      Mammal  00BF  Outer London  \n",
       "3                 Hillingdon       Ruislip      Mammal  00AS  Outer London  \n",
       "4                   Havering   Harold Hill      Mammal  00AR  Outer London  \n",
       "...                      ...           ...         ...   ...           ...  \n",
       "5747  Hammersmith And Fulham      Chiswick      Mammal  00AN           NaN  \n",
       "5748          Waltham Forest   Walthamstow      Mammal  00BH           NaN  \n",
       "5749                 Bromley       Bromley      Mammal  00AF           NaN  \n",
       "5750                  Ealing      Southall      Mammal  00AJ           NaN  \n",
       "5751                  Barnet     Southgate      Mammal  00AC           NaN  \n",
       "\n",
       "[5752 rows x 19 columns]"
      ]
     },
     "execution_count": 105,
     "metadata": {},
     "output_type": "execute_result"
    }
   ],
   "source": [
    "animals\n",
    "#orginal dataframe without column names"
   ]
  },
  {
   "cell_type": "code",
   "execution_count": 106,
   "id": "b733d155",
   "metadata": {},
   "outputs": [],
   "source": [
    "def clean_frame_give_objects(dataframe):\n",
    "    \n",
    "    dataframe.columns = dataframe.columns.str.replace(\" \" , \"_\")\n",
    "    dataframe.columns = dataframe.columns.str.lower()\n",
    "    dataframe_objects = dataframe.select_dtypes(include = [\"O\"] )\n",
    "\n",
    "    return dataframe_objects\n",
    "\n",
    "#the function steps seems to be>>> define function \n",
    "#>>>replace the dataframe columsn with a gap to an underscore \n",
    "#>>>Make all column names lowercase\n",
    "#>>>Then apply it to all object data in the column name sections \n",
    "#>>>Return the apply step \n",
    "#>>>The cell below shows how after defining the function,\n",
    "#it's process can be applied to any other dataframe "
   ]
  },
  {
   "cell_type": "code",
   "execution_count": 107,
   "id": "da922ed6",
   "metadata": {},
   "outputs": [
    {
     "data": {
      "text/html": [
       "<div>\n",
       "<style scoped>\n",
       "    .dataframe tbody tr th:only-of-type {\n",
       "        vertical-align: middle;\n",
       "    }\n",
       "\n",
       "    .dataframe tbody tr th {\n",
       "        vertical-align: top;\n",
       "    }\n",
       "\n",
       "    .dataframe thead th {\n",
       "        text-align: right;\n",
       "    }\n",
       "</style>\n",
       "<table border=\"1\" class=\"dataframe\">\n",
       "  <thead>\n",
       "    <tr style=\"text-align: right;\">\n",
       "      <th></th>\n",
       "      <th>incidentnumber</th>\n",
       "      <th>datetimeofcall</th>\n",
       "      <th>finyear</th>\n",
       "      <th>typeofincident</th>\n",
       "      <th>finaldescription</th>\n",
       "      <th>animalgroupparent</th>\n",
       "      <th>propertytype</th>\n",
       "      <th>specialservicetypecategory</th>\n",
       "      <th>specialservicetype</th>\n",
       "      <th>borough</th>\n",
       "      <th>stngroundname</th>\n",
       "      <th>animalclass</th>\n",
       "      <th>code</th>\n",
       "      <th>london</th>\n",
       "    </tr>\n",
       "  </thead>\n",
       "  <tbody>\n",
       "    <tr>\n",
       "      <th>0</th>\n",
       "      <td>139091</td>\n",
       "      <td>01/01/2009 03:01</td>\n",
       "      <td>2008/09</td>\n",
       "      <td>Special Service</td>\n",
       "      <td>DOG WITH JAW TRAPPED IN MAGAZINE RACK,B15</td>\n",
       "      <td>Dog</td>\n",
       "      <td>House - single occupancy</td>\n",
       "      <td>Other animal assistance</td>\n",
       "      <td>Animal assistance involving livestock - Other ...</td>\n",
       "      <td>Croydon</td>\n",
       "      <td>Norbury</td>\n",
       "      <td>Mammal</td>\n",
       "      <td>00AH</td>\n",
       "      <td>Outer London</td>\n",
       "    </tr>\n",
       "    <tr>\n",
       "      <th>1</th>\n",
       "      <td>275091</td>\n",
       "      <td>01/01/2009 08:51</td>\n",
       "      <td>2008/09</td>\n",
       "      <td>Special Service</td>\n",
       "      <td>ASSIST RSPCA WITH FOX TRAPPED,B15</td>\n",
       "      <td>Fox</td>\n",
       "      <td>Railings</td>\n",
       "      <td>Other animal assistance</td>\n",
       "      <td>Animal assistance involving livestock - Other ...</td>\n",
       "      <td>Croydon</td>\n",
       "      <td>Woodside</td>\n",
       "      <td>Mammal</td>\n",
       "      <td>00AH</td>\n",
       "      <td>Outer London</td>\n",
       "    </tr>\n",
       "    <tr>\n",
       "      <th>2</th>\n",
       "      <td>2075091</td>\n",
       "      <td>04/01/2009 10:07</td>\n",
       "      <td>2008/09</td>\n",
       "      <td>Special Service</td>\n",
       "      <td>DOG CAUGHT IN DRAIN,B15</td>\n",
       "      <td>Dog</td>\n",
       "      <td>Pipe or drain</td>\n",
       "      <td>Animal rescue from below ground</td>\n",
       "      <td>Animal rescue from below ground - Domestic pet</td>\n",
       "      <td>Sutton</td>\n",
       "      <td>Wallington</td>\n",
       "      <td>Mammal</td>\n",
       "      <td>00BF</td>\n",
       "      <td>Outer London</td>\n",
       "    </tr>\n",
       "    <tr>\n",
       "      <th>3</th>\n",
       "      <td>2872091</td>\n",
       "      <td>05/01/2009 12:27</td>\n",
       "      <td>2008/09</td>\n",
       "      <td>Special Service</td>\n",
       "      <td>HORSE TRAPPED IN LAKE,J17</td>\n",
       "      <td>Horse</td>\n",
       "      <td>Intensive Farming Sheds (chickens, pigs etc)</td>\n",
       "      <td>Animal rescue from water</td>\n",
       "      <td>Animal rescue from water - Farm animal</td>\n",
       "      <td>Hillingdon</td>\n",
       "      <td>Ruislip</td>\n",
       "      <td>Mammal</td>\n",
       "      <td>00AS</td>\n",
       "      <td>Outer London</td>\n",
       "    </tr>\n",
       "    <tr>\n",
       "      <th>4</th>\n",
       "      <td>3553091</td>\n",
       "      <td>06/01/2009 15:23</td>\n",
       "      <td>2008/09</td>\n",
       "      <td>Special Service</td>\n",
       "      <td>RABBIT TRAPPED UNDER SOFA,B15</td>\n",
       "      <td>Rabbit</td>\n",
       "      <td>House - single occupancy</td>\n",
       "      <td>Other animal assistance</td>\n",
       "      <td>Animal assistance involving livestock - Other ...</td>\n",
       "      <td>Havering</td>\n",
       "      <td>Harold Hill</td>\n",
       "      <td>Mammal</td>\n",
       "      <td>00AR</td>\n",
       "      <td>Outer London</td>\n",
       "    </tr>\n",
       "    <tr>\n",
       "      <th>...</th>\n",
       "      <td>...</td>\n",
       "      <td>...</td>\n",
       "      <td>...</td>\n",
       "      <td>...</td>\n",
       "      <td>...</td>\n",
       "      <td>...</td>\n",
       "      <td>...</td>\n",
       "      <td>...</td>\n",
       "      <td>...</td>\n",
       "      <td>...</td>\n",
       "      <td>...</td>\n",
       "      <td>...</td>\n",
       "      <td>...</td>\n",
       "      <td>...</td>\n",
       "    </tr>\n",
       "    <tr>\n",
       "      <th>5747</th>\n",
       "      <td>138718-29092018</td>\n",
       "      <td>29/09/2018 14:57</td>\n",
       "      <td>2018/19</td>\n",
       "      <td>Special Service</td>\n",
       "      <td>ASSIST RSPCA WITH CAT STUCK ON WINDOW LEDGE 3 ...</td>\n",
       "      <td>Cat</td>\n",
       "      <td>Purpose Built Flats/Maisonettes - 4 to 9 storeys</td>\n",
       "      <td>Animal rescue from height</td>\n",
       "      <td>Animal rescue from height - Domestic pet</td>\n",
       "      <td>Hammersmith And Fulham</td>\n",
       "      <td>Chiswick</td>\n",
       "      <td>Mammal</td>\n",
       "      <td>00AN</td>\n",
       "      <td>NaN</td>\n",
       "    </tr>\n",
       "    <tr>\n",
       "      <th>5748</th>\n",
       "      <td>138738-29092018</td>\n",
       "      <td>29/09/2018 15:13</td>\n",
       "      <td>2018/19</td>\n",
       "      <td>Special Service</td>\n",
       "      <td>CAT STUCK ON 2ND FLOOR OF PROPERTY      ASSIST...</td>\n",
       "      <td>Cat</td>\n",
       "      <td>Animal harm outdoors</td>\n",
       "      <td>Animal rescue from height</td>\n",
       "      <td>Animal rescue from height - Domestic pet</td>\n",
       "      <td>Waltham Forest</td>\n",
       "      <td>Walthamstow</td>\n",
       "      <td>Mammal</td>\n",
       "      <td>00BH</td>\n",
       "      <td>NaN</td>\n",
       "    </tr>\n",
       "    <tr>\n",
       "      <th>5749</th>\n",
       "      <td>138800-29092018</td>\n",
       "      <td>29/09/2018 16:49</td>\n",
       "      <td>2018/19</td>\n",
       "      <td>Special Service</td>\n",
       "      <td>CAT TRAPPED IN BUSHES ON LAKE</td>\n",
       "      <td>Cat</td>\n",
       "      <td>Lake/pond/reservoir</td>\n",
       "      <td>Animal rescue from water</td>\n",
       "      <td>Animal rescue from water - Domestic pet</td>\n",
       "      <td>Bromley</td>\n",
       "      <td>Bromley</td>\n",
       "      <td>Mammal</td>\n",
       "      <td>00AF</td>\n",
       "      <td>NaN</td>\n",
       "    </tr>\n",
       "    <tr>\n",
       "      <th>5750</th>\n",
       "      <td>138957-29092018</td>\n",
       "      <td>29/09/2018 21:10</td>\n",
       "      <td>2018/19</td>\n",
       "      <td>Special Service</td>\n",
       "      <td>DOG WITH PAWS TRAPPED IN METAL TABLE LEG</td>\n",
       "      <td>Dog</td>\n",
       "      <td>House - single occupancy</td>\n",
       "      <td>Other animal assistance</td>\n",
       "      <td>Assist trapped domestic animal</td>\n",
       "      <td>Ealing</td>\n",
       "      <td>Southall</td>\n",
       "      <td>Mammal</td>\n",
       "      <td>00AJ</td>\n",
       "      <td>NaN</td>\n",
       "    </tr>\n",
       "    <tr>\n",
       "      <th>5751</th>\n",
       "      <td>139509-30092018</td>\n",
       "      <td>30/09/2018 21:39</td>\n",
       "      <td>2018/19</td>\n",
       "      <td>Special Service</td>\n",
       "      <td>CAT STUCK ON ROOF OF HOUSE</td>\n",
       "      <td>Cat</td>\n",
       "      <td>Bungalow - single occupancy</td>\n",
       "      <td>Animal rescue from height</td>\n",
       "      <td>Animal rescue from height - Domestic pet</td>\n",
       "      <td>Barnet</td>\n",
       "      <td>Southgate</td>\n",
       "      <td>Mammal</td>\n",
       "      <td>00AC</td>\n",
       "      <td>NaN</td>\n",
       "    </tr>\n",
       "  </tbody>\n",
       "</table>\n",
       "<p>5752 rows × 14 columns</p>\n",
       "</div>"
      ],
      "text/plain": [
       "       incidentnumber    datetimeofcall  finyear   typeofincident  \\\n",
       "0              139091  01/01/2009 03:01  2008/09  Special Service   \n",
       "1              275091  01/01/2009 08:51  2008/09  Special Service   \n",
       "2             2075091  04/01/2009 10:07  2008/09  Special Service   \n",
       "3             2872091  05/01/2009 12:27  2008/09  Special Service   \n",
       "4             3553091  06/01/2009 15:23  2008/09  Special Service   \n",
       "...               ...               ...      ...              ...   \n",
       "5747  138718-29092018  29/09/2018 14:57  2018/19  Special Service   \n",
       "5748  138738-29092018  29/09/2018 15:13  2018/19  Special Service   \n",
       "5749  138800-29092018  29/09/2018 16:49  2018/19  Special Service   \n",
       "5750  138957-29092018  29/09/2018 21:10  2018/19  Special Service   \n",
       "5751  139509-30092018  30/09/2018 21:39  2018/19  Special Service   \n",
       "\n",
       "                                       finaldescription animalgroupparent  \\\n",
       "0             DOG WITH JAW TRAPPED IN MAGAZINE RACK,B15               Dog   \n",
       "1                     ASSIST RSPCA WITH FOX TRAPPED,B15               Fox   \n",
       "2                               DOG CAUGHT IN DRAIN,B15               Dog   \n",
       "3                             HORSE TRAPPED IN LAKE,J17             Horse   \n",
       "4                         RABBIT TRAPPED UNDER SOFA,B15            Rabbit   \n",
       "...                                                 ...               ...   \n",
       "5747  ASSIST RSPCA WITH CAT STUCK ON WINDOW LEDGE 3 ...               Cat   \n",
       "5748  CAT STUCK ON 2ND FLOOR OF PROPERTY      ASSIST...               Cat   \n",
       "5749                      CAT TRAPPED IN BUSHES ON LAKE               Cat   \n",
       "5750           DOG WITH PAWS TRAPPED IN METAL TABLE LEG               Dog   \n",
       "5751                         CAT STUCK ON ROOF OF HOUSE               Cat   \n",
       "\n",
       "                                           propertytype  \\\n",
       "0                             House - single occupancy    \n",
       "1                                              Railings   \n",
       "2                                        Pipe or drain    \n",
       "3         Intensive Farming Sheds (chickens, pigs etc)    \n",
       "4                             House - single occupancy    \n",
       "...                                                 ...   \n",
       "5747  Purpose Built Flats/Maisonettes - 4 to 9 storeys    \n",
       "5748                               Animal harm outdoors   \n",
       "5749                               Lake/pond/reservoir    \n",
       "5750                          House - single occupancy    \n",
       "5751                       Bungalow - single occupancy    \n",
       "\n",
       "           specialservicetypecategory  \\\n",
       "0             Other animal assistance   \n",
       "1             Other animal assistance   \n",
       "2     Animal rescue from below ground   \n",
       "3            Animal rescue from water   \n",
       "4             Other animal assistance   \n",
       "...                               ...   \n",
       "5747        Animal rescue from height   \n",
       "5748        Animal rescue from height   \n",
       "5749         Animal rescue from water   \n",
       "5750          Other animal assistance   \n",
       "5751        Animal rescue from height   \n",
       "\n",
       "                                     specialservicetype  \\\n",
       "0     Animal assistance involving livestock - Other ...   \n",
       "1     Animal assistance involving livestock - Other ...   \n",
       "2        Animal rescue from below ground - Domestic pet   \n",
       "3                Animal rescue from water - Farm animal   \n",
       "4     Animal assistance involving livestock - Other ...   \n",
       "...                                                 ...   \n",
       "5747           Animal rescue from height - Domestic pet   \n",
       "5748           Animal rescue from height - Domestic pet   \n",
       "5749            Animal rescue from water - Domestic pet   \n",
       "5750                     Assist trapped domestic animal   \n",
       "5751           Animal rescue from height - Domestic pet   \n",
       "\n",
       "                     borough stngroundname animalclass  code        london  \n",
       "0                    Croydon       Norbury      Mammal  00AH  Outer London  \n",
       "1                    Croydon      Woodside      Mammal  00AH  Outer London  \n",
       "2                     Sutton    Wallington      Mammal  00BF  Outer London  \n",
       "3                 Hillingdon       Ruislip      Mammal  00AS  Outer London  \n",
       "4                   Havering   Harold Hill      Mammal  00AR  Outer London  \n",
       "...                      ...           ...         ...   ...           ...  \n",
       "5747  Hammersmith And Fulham      Chiswick      Mammal  00AN           NaN  \n",
       "5748          Waltham Forest   Walthamstow      Mammal  00BH           NaN  \n",
       "5749                 Bromley       Bromley      Mammal  00AF           NaN  \n",
       "5750                  Ealing      Southall      Mammal  00AJ           NaN  \n",
       "5751                  Barnet     Southgate      Mammal  00AC           NaN  \n",
       "\n",
       "[5752 rows x 14 columns]"
      ]
     },
     "execution_count": 107,
     "metadata": {},
     "output_type": "execute_result"
    }
   ],
   "source": [
    "clean_frame_give_objects(animals)\n",
    "\n",
    "#the function here does the same as the script above\n",
    "#the function can also be applied to any dataframe "
   ]
  },
  {
   "cell_type": "code",
   "execution_count": 108,
   "id": "520b8c15",
   "metadata": {},
   "outputs": [],
   "source": [
    "#We could also expand this loop to allow us to perform the function\n",
    "#on multiple DataFrames. \n",
    "#This would allow us to clean multiple DataFrames at once\n",
    "#and store them in a list object for example.\n",
    "\n",
    "# We can then loop through the list of frames and process them one after another\n",
    "# Collect our list of frames\n",
    "list_of_frames = [animals, titanic]\n",
    "\n",
    "# Create a new blank list to store our frames in\n",
    "new_frames = []\n",
    "\n",
    "# Use a for loop to apply our function\n",
    "for each_frame in list_of_frames:\n",
    "    clean_frame = clean_frame_give_objects(each_frame)\n",
    "    new_frames.append(clean_frame)    \n",
    "\n",
    "    \n",
    "#the clean_frame_give_objects function\n",
    "#from def clean_frame_give_objects(dataframe), is utilised "
   ]
  },
  {
   "cell_type": "code",
   "execution_count": 109,
   "id": "7fb6fb3a",
   "metadata": {},
   "outputs": [
    {
     "data": {
      "text/html": [
       "<div>\n",
       "<style scoped>\n",
       "    .dataframe tbody tr th:only-of-type {\n",
       "        vertical-align: middle;\n",
       "    }\n",
       "\n",
       "    .dataframe tbody tr th {\n",
       "        vertical-align: top;\n",
       "    }\n",
       "\n",
       "    .dataframe thead th {\n",
       "        text-align: right;\n",
       "    }\n",
       "</style>\n",
       "<table border=\"1\" class=\"dataframe\">\n",
       "  <thead>\n",
       "    <tr style=\"text-align: right;\">\n",
       "      <th></th>\n",
       "      <th>incidentnumber</th>\n",
       "      <th>datetimeofcall</th>\n",
       "      <th>finyear</th>\n",
       "      <th>typeofincident</th>\n",
       "      <th>finaldescription</th>\n",
       "      <th>animalgroupparent</th>\n",
       "      <th>propertytype</th>\n",
       "      <th>specialservicetypecategory</th>\n",
       "      <th>specialservicetype</th>\n",
       "      <th>borough</th>\n",
       "      <th>stngroundname</th>\n",
       "      <th>animalclass</th>\n",
       "      <th>code</th>\n",
       "      <th>london</th>\n",
       "    </tr>\n",
       "  </thead>\n",
       "  <tbody>\n",
       "    <tr>\n",
       "      <th>0</th>\n",
       "      <td>139091</td>\n",
       "      <td>01/01/2009 03:01</td>\n",
       "      <td>2008/09</td>\n",
       "      <td>Special Service</td>\n",
       "      <td>DOG WITH JAW TRAPPED IN MAGAZINE RACK,B15</td>\n",
       "      <td>Dog</td>\n",
       "      <td>House - single occupancy</td>\n",
       "      <td>Other animal assistance</td>\n",
       "      <td>Animal assistance involving livestock - Other ...</td>\n",
       "      <td>Croydon</td>\n",
       "      <td>Norbury</td>\n",
       "      <td>Mammal</td>\n",
       "      <td>00AH</td>\n",
       "      <td>Outer London</td>\n",
       "    </tr>\n",
       "    <tr>\n",
       "      <th>1</th>\n",
       "      <td>275091</td>\n",
       "      <td>01/01/2009 08:51</td>\n",
       "      <td>2008/09</td>\n",
       "      <td>Special Service</td>\n",
       "      <td>ASSIST RSPCA WITH FOX TRAPPED,B15</td>\n",
       "      <td>Fox</td>\n",
       "      <td>Railings</td>\n",
       "      <td>Other animal assistance</td>\n",
       "      <td>Animal assistance involving livestock - Other ...</td>\n",
       "      <td>Croydon</td>\n",
       "      <td>Woodside</td>\n",
       "      <td>Mammal</td>\n",
       "      <td>00AH</td>\n",
       "      <td>Outer London</td>\n",
       "    </tr>\n",
       "    <tr>\n",
       "      <th>2</th>\n",
       "      <td>2075091</td>\n",
       "      <td>04/01/2009 10:07</td>\n",
       "      <td>2008/09</td>\n",
       "      <td>Special Service</td>\n",
       "      <td>DOG CAUGHT IN DRAIN,B15</td>\n",
       "      <td>Dog</td>\n",
       "      <td>Pipe or drain</td>\n",
       "      <td>Animal rescue from below ground</td>\n",
       "      <td>Animal rescue from below ground - Domestic pet</td>\n",
       "      <td>Sutton</td>\n",
       "      <td>Wallington</td>\n",
       "      <td>Mammal</td>\n",
       "      <td>00BF</td>\n",
       "      <td>Outer London</td>\n",
       "    </tr>\n",
       "    <tr>\n",
       "      <th>3</th>\n",
       "      <td>2872091</td>\n",
       "      <td>05/01/2009 12:27</td>\n",
       "      <td>2008/09</td>\n",
       "      <td>Special Service</td>\n",
       "      <td>HORSE TRAPPED IN LAKE,J17</td>\n",
       "      <td>Horse</td>\n",
       "      <td>Intensive Farming Sheds (chickens, pigs etc)</td>\n",
       "      <td>Animal rescue from water</td>\n",
       "      <td>Animal rescue from water - Farm animal</td>\n",
       "      <td>Hillingdon</td>\n",
       "      <td>Ruislip</td>\n",
       "      <td>Mammal</td>\n",
       "      <td>00AS</td>\n",
       "      <td>Outer London</td>\n",
       "    </tr>\n",
       "    <tr>\n",
       "      <th>4</th>\n",
       "      <td>3553091</td>\n",
       "      <td>06/01/2009 15:23</td>\n",
       "      <td>2008/09</td>\n",
       "      <td>Special Service</td>\n",
       "      <td>RABBIT TRAPPED UNDER SOFA,B15</td>\n",
       "      <td>Rabbit</td>\n",
       "      <td>House - single occupancy</td>\n",
       "      <td>Other animal assistance</td>\n",
       "      <td>Animal assistance involving livestock - Other ...</td>\n",
       "      <td>Havering</td>\n",
       "      <td>Harold Hill</td>\n",
       "      <td>Mammal</td>\n",
       "      <td>00AR</td>\n",
       "      <td>Outer London</td>\n",
       "    </tr>\n",
       "  </tbody>\n",
       "</table>\n",
       "</div>"
      ],
      "text/plain": [
       "  incidentnumber    datetimeofcall  finyear   typeofincident  \\\n",
       "0         139091  01/01/2009 03:01  2008/09  Special Service   \n",
       "1         275091  01/01/2009 08:51  2008/09  Special Service   \n",
       "2        2075091  04/01/2009 10:07  2008/09  Special Service   \n",
       "3        2872091  05/01/2009 12:27  2008/09  Special Service   \n",
       "4        3553091  06/01/2009 15:23  2008/09  Special Service   \n",
       "\n",
       "                            finaldescription animalgroupparent  \\\n",
       "0  DOG WITH JAW TRAPPED IN MAGAZINE RACK,B15               Dog   \n",
       "1          ASSIST RSPCA WITH FOX TRAPPED,B15               Fox   \n",
       "2                    DOG CAUGHT IN DRAIN,B15               Dog   \n",
       "3                  HORSE TRAPPED IN LAKE,J17             Horse   \n",
       "4              RABBIT TRAPPED UNDER SOFA,B15            Rabbit   \n",
       "\n",
       "                                    propertytype  \\\n",
       "0                      House - single occupancy    \n",
       "1                                       Railings   \n",
       "2                                 Pipe or drain    \n",
       "3  Intensive Farming Sheds (chickens, pigs etc)    \n",
       "4                      House - single occupancy    \n",
       "\n",
       "        specialservicetypecategory  \\\n",
       "0          Other animal assistance   \n",
       "1          Other animal assistance   \n",
       "2  Animal rescue from below ground   \n",
       "3         Animal rescue from water   \n",
       "4          Other animal assistance   \n",
       "\n",
       "                                  specialservicetype     borough  \\\n",
       "0  Animal assistance involving livestock - Other ...     Croydon   \n",
       "1  Animal assistance involving livestock - Other ...     Croydon   \n",
       "2     Animal rescue from below ground - Domestic pet      Sutton   \n",
       "3             Animal rescue from water - Farm animal  Hillingdon   \n",
       "4  Animal assistance involving livestock - Other ...    Havering   \n",
       "\n",
       "  stngroundname animalclass  code        london  \n",
       "0       Norbury      Mammal  00AH  Outer London  \n",
       "1      Woodside      Mammal  00AH  Outer London  \n",
       "2    Wallington      Mammal  00BF  Outer London  \n",
       "3       Ruislip      Mammal  00AS  Outer London  \n",
       "4   Harold Hill      Mammal  00AR  Outer London  "
      ]
     },
     "execution_count": 109,
     "metadata": {},
     "output_type": "execute_result"
    }
   ],
   "source": [
    "#We can then sub-select each DataFrame from our list like so:\n",
    "# selects the datafame at position 0 in our list\n",
    "new_frames[0].head()"
   ]
  },
  {
   "cell_type": "code",
   "execution_count": 110,
   "id": "20796725",
   "metadata": {},
   "outputs": [
    {
     "data": {
      "text/html": [
       "<div>\n",
       "<style scoped>\n",
       "    .dataframe tbody tr th:only-of-type {\n",
       "        vertical-align: middle;\n",
       "    }\n",
       "\n",
       "    .dataframe tbody tr th {\n",
       "        vertical-align: top;\n",
       "    }\n",
       "\n",
       "    .dataframe thead th {\n",
       "        text-align: right;\n",
       "    }\n",
       "</style>\n",
       "<table border=\"1\" class=\"dataframe\">\n",
       "  <thead>\n",
       "    <tr style=\"text-align: right;\">\n",
       "      <th></th>\n",
       "      <th>name</th>\n",
       "      <th>sex</th>\n",
       "      <th>ticket</th>\n",
       "      <th>cabin</th>\n",
       "      <th>embarked</th>\n",
       "      <th>home.dest</th>\n",
       "      <th>boat</th>\n",
       "    </tr>\n",
       "  </thead>\n",
       "  <tbody>\n",
       "    <tr>\n",
       "      <th>0</th>\n",
       "      <td>Allen, Miss. Elisabeth Walton</td>\n",
       "      <td>female</td>\n",
       "      <td>24160</td>\n",
       "      <td>B5</td>\n",
       "      <td>S</td>\n",
       "      <td>St Louis, MO</td>\n",
       "      <td>2</td>\n",
       "    </tr>\n",
       "    <tr>\n",
       "      <th>1</th>\n",
       "      <td>Allison, Master. Hudson Trevor</td>\n",
       "      <td>male</td>\n",
       "      <td>113781</td>\n",
       "      <td>C22 C26</td>\n",
       "      <td>S</td>\n",
       "      <td>Montreal, PQ / Chesterville, ON</td>\n",
       "      <td>11</td>\n",
       "    </tr>\n",
       "    <tr>\n",
       "      <th>2</th>\n",
       "      <td>Allison, Miss. Helen Loraine</td>\n",
       "      <td>female</td>\n",
       "      <td>113781</td>\n",
       "      <td>C22 C26</td>\n",
       "      <td>S</td>\n",
       "      <td>Montreal, PQ / Chesterville, ON</td>\n",
       "      <td>NaN</td>\n",
       "    </tr>\n",
       "    <tr>\n",
       "      <th>3</th>\n",
       "      <td>Allison, Mr. Hudson Joshua Creighton</td>\n",
       "      <td>male</td>\n",
       "      <td>113781</td>\n",
       "      <td>C22 C26</td>\n",
       "      <td>S</td>\n",
       "      <td>Montreal, PQ / Chesterville, ON</td>\n",
       "      <td>NaN</td>\n",
       "    </tr>\n",
       "    <tr>\n",
       "      <th>4</th>\n",
       "      <td>Allison, Mrs. Hudson J C (Bessie Waldo Daniels)</td>\n",
       "      <td>female</td>\n",
       "      <td>113781</td>\n",
       "      <td>C22 C26</td>\n",
       "      <td>S</td>\n",
       "      <td>Montreal, PQ / Chesterville, ON</td>\n",
       "      <td>NaN</td>\n",
       "    </tr>\n",
       "  </tbody>\n",
       "</table>\n",
       "</div>"
      ],
      "text/plain": [
       "                                              name     sex  ticket    cabin  \\\n",
       "0                    Allen, Miss. Elisabeth Walton  female   24160       B5   \n",
       "1                   Allison, Master. Hudson Trevor    male  113781  C22 C26   \n",
       "2                     Allison, Miss. Helen Loraine  female  113781  C22 C26   \n",
       "3             Allison, Mr. Hudson Joshua Creighton    male  113781  C22 C26   \n",
       "4  Allison, Mrs. Hudson J C (Bessie Waldo Daniels)  female  113781  C22 C26   \n",
       "\n",
       "  embarked                        home.dest boat  \n",
       "0        S                     St Louis, MO    2  \n",
       "1        S  Montreal, PQ / Chesterville, ON   11  \n",
       "2        S  Montreal, PQ / Chesterville, ON  NaN  \n",
       "3        S  Montreal, PQ / Chesterville, ON  NaN  \n",
       "4        S  Montreal, PQ / Chesterville, ON  NaN  "
      ]
     },
     "execution_count": 110,
     "metadata": {},
     "output_type": "execute_result"
    }
   ],
   "source": [
    "# selects the datafame at position 1 in our list\n",
    "new_frames[1].head()"
   ]
  },
  {
   "cell_type": "code",
   "execution_count": 111,
   "id": "f8177df2",
   "metadata": {},
   "outputs": [],
   "source": [
    "#looping through a list of dataframes may not always be \n",
    "#the most efficient way to accomplish something \n",
    "#when the dfs themselves are particularly large and there is a large\n",
    "#number of them. Generally this would be considered bad practice\n",
    "\n",
    "\n",
    "#The map() function allows us to apply a specified function of our \n",
    "#choice to an iterable (so a list or tuple for example) to circumvent \n",
    "#the need for looping (and as such is much faster), \n",
    "#creating what is called a map object.\n",
    "\n",
    "#This may sound like it could be a problem, but thankfully, \n",
    "#we have the list() function to covert this back to a list, \n",
    "#so we must remember to convert the datatype as a final step. \n",
    "\n",
    "#Often a loop should be used as a last resort for this kind of \n",
    "#application if such a function as map() is not applicable.\n",
    "\n",
    "\n",
    "#The syntax for map is as follows:\n",
    "#map(function, iterable)\n",
    "#Where the function is a UDF or a built in function and the \n",
    "#iterable is the list, tuple etc of our choice!\n",
    "\n"
   ]
  },
  {
   "cell_type": "code",
   "execution_count": null,
   "id": "8f674f69",
   "metadata": {},
   "outputs": [],
   "source": [
    "#world of functional programming can be its own discipline within programming \n",
    "#something that the programming language R was built for \n",
    "#but is now possible in Python\n",
    "\n",
    "#the cleaning function performs two tasks in one, namely:\n",
    "#>>>Cleaning column names\n",
    "#>>>Selecting object datatypes\n",
    "\n",
    "#This was done for convenience here and to show a good \n",
    "#example of using functions for dataframes but is not good practice. \n",
    "\n",
    "#we should always strive to make functions as simple as possible \n",
    "#performing only one task each unless impossible to separate them.\n",
    "\n",
    "#we should create a smaller function to clean the column names, \n",
    "#outputting a dataframe that can then be passed to \n",
    "#an object selector function and so on in a pipeline. "
   ]
  }
 ],
 "metadata": {
  "kernelspec": {
   "display_name": "Python 3 (ipykernel)",
   "language": "python",
   "name": "python3"
  },
  "language_info": {
   "codemirror_mode": {
    "name": "ipython",
    "version": 3
   },
   "file_extension": ".py",
   "mimetype": "text/x-python",
   "name": "python",
   "nbconvert_exporter": "python",
   "pygments_lexer": "ipython3",
   "version": "3.9.13"
  }
 },
 "nbformat": 4,
 "nbformat_minor": 5
}
